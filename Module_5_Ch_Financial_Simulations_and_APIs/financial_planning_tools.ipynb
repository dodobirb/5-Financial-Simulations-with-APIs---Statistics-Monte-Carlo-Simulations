{
 "cells": [
  {
   "cell_type": "markdown",
   "metadata": {},
   "source": [
    "# Financial Planning with APIs and Simulations\n",
    "\n",
    "In this Challenge, you’ll create two financial analysis tools by using a single Jupyter notebook:\n",
    "\n",
    "Part 1: A financial planner for emergencies. The members will be able to use this tool to visualize their current savings. The members can then determine if they have enough reserves for an emergency fund.\n",
    "\n",
    "Part 2: A financial planner for retirement. This tool will forecast the performance of their retirement portfolio in 30 years. To do this, the tool will make an Alpaca API call via the Alpaca SDK to get historical price data for use in Monte Carlo simulations.\n",
    "\n",
    "You’ll use the information from the Monte Carlo simulation to answer questions about the portfolio in your Jupyter notebook.\n",
    "\n"
   ]
  },
  {
   "cell_type": "code",
   "execution_count": 1,
   "metadata": {},
   "outputs": [],
   "source": [
    "# Import the required libraries and dependencies\n",
    "\n",
    "import os\n",
    "import requests\n",
    "import json\n",
    "import pandas as pd\n",
    "from dotenv import load_dotenv\n",
    "import alpaca_trade_api as tradeapi\n",
    "from MCForecastTools import MCSimulation\n",
    "\n",
    "%matplotlib inline"
   ]
  },
  {
   "cell_type": "code",
   "execution_count": 2,
   "metadata": {},
   "outputs": [
    {
     "data": {
      "text/plain": [
       "True"
      ]
     },
     "execution_count": 2,
     "metadata": {},
     "output_type": "execute_result"
    }
   ],
   "source": [
    "# Load the environment variables from the .env file\n",
    "#by calling the load_dotenv function\n",
    "\n",
    "load_dotenv()"
   ]
  },
  {
   "cell_type": "markdown",
   "metadata": {},
   "source": [
    "## Part 1: Create a Financial Planner for Emergencies"
   ]
  },
  {
   "cell_type": "markdown",
   "metadata": {},
   "source": [
    "### Evaluate the Cryptocurrency Wallet by Using the Requests Library\n",
    "\n",
    "In this section, you’ll determine the current value of a member’s cryptocurrency wallet. You’ll collect the current prices for the Bitcoin and Ethereum cryptocurrencies by using the Python Requests library. For the prototype, you’ll assume that the member holds the 1.2 Bitcoins (BTC) and 5.3 Ethereum coins (ETH). To do all this, complete the following steps:\n",
    "\n",
    "1. Create a variable named `monthly_income`, and set its value to `12000`.\n",
    "\n",
    "2. Use the Requests library to get the current price (in US dollars) of Bitcoin (BTC) and Ethereum (ETH) by using the API endpoints that the starter code supplies.\n",
    "\n",
    "3. Navigate the JSON response object to access the current price of each coin, and store each in a variable.\n",
    "\n",
    "    > **Hint** Note the specific identifier for each cryptocurrency in the API JSON response. The Bitcoin identifier is `1`, and the Ethereum identifier is `1027`.\n",
    "\n",
    "4. Calculate the value, in US dollars, of the current amount of each cryptocurrency and of the entire cryptocurrency wallet.\n",
    "\n"
   ]
  },
  {
   "cell_type": "code",
   "execution_count": 3,
   "metadata": {},
   "outputs": [],
   "source": [
    "# The current number of coins for each cryptocurrency asset held in the portfolio.\n",
    "\n",
    "btc_coins = 1.2\n",
    "eth_coins = 5.3"
   ]
  },
  {
   "cell_type": "markdown",
   "metadata": {},
   "source": [
    "#### Step 1: Create a variable named `monthly_income`, and set its value to `12000`."
   ]
  },
  {
   "cell_type": "code",
   "execution_count": 4,
   "metadata": {},
   "outputs": [],
   "source": [
    "# The monthly amount for the member's household income\n",
    "\n",
    "monthly_income = 12000"
   ]
  },
  {
   "cell_type": "markdown",
   "metadata": {},
   "source": [
    "#### Review the endpoint URLs for the API calls to Free Crypto API in order to get the current pricing information for both BTC and ETH."
   ]
  },
  {
   "cell_type": "code",
   "execution_count": 5,
   "metadata": {},
   "outputs": [],
   "source": [
    "# The Free Crypto API Call endpoint URLs for the held cryptocurrency assets\n",
    "\n",
    "btc_url = \"https://api.alternative.me/v2/ticker/Bitcoin/?convert=USD\"\n",
    "eth_url = \"https://api.alternative.me/v2/ticker/Ethereum/?convert=USD\""
   ]
  },
  {
   "cell_type": "markdown",
   "metadata": {},
   "source": [
    "#### Step 2. Use the Requests library to get the current price (in US dollars) of Bitcoin (BTC) and Ethereum (ETH) by using the API endpoints that the starter code supplied."
   ]
  },
  {
   "cell_type": "code",
   "execution_count": 6,
   "metadata": {
    "scrolled": true,
    "tags": []
   },
   "outputs": [
    {
     "name": "stdout",
     "output_type": "stream",
     "text": [
      "{\n",
      "    \"data\": {\n",
      "        \"1\": {\n",
      "            \"circulating_supply\": 18833687,\n",
      "            \"id\": 1,\n",
      "            \"last_updated\": 1633281255,\n",
      "            \"max_supply\": 21000000,\n",
      "            \"name\": \"Bitcoin\",\n",
      "            \"quotes\": {\n",
      "                \"USD\": {\n",
      "                    \"market_cap\": 906524863942,\n",
      "                    \"percent_change_1h\": 0.345013425915889,\n",
      "                    \"percent_change_24h\": 0.36633625113694,\n",
      "                    \"percent_change_7d\": 12.3740486765708,\n",
      "                    \"percentage_change_1h\": 0.345013425915889,\n",
      "                    \"percentage_change_24h\": 0.36633625113694,\n",
      "                    \"percentage_change_7d\": 12.3740486765708,\n",
      "                    \"price\": 48160.0,\n",
      "                    \"volume_24h\": 25307612639\n",
      "                }\n",
      "            },\n",
      "            \"rank\": 1,\n",
      "            \"symbol\": \"BTC\",\n",
      "            \"total_supply\": 18833687,\n",
      "            \"website_slug\": \"bitcoin\"\n",
      "        }\n",
      "    },\n",
      "    \"metadata\": {\n",
      "        \"error\": null,\n",
      "        \"num_cryptocurrencies\": 3105,\n",
      "        \"timestamp\": 1633281255\n",
      "    }\n",
      "}\n"
     ]
    }
   ],
   "source": [
    "# Using the Python requests library, make an API call to access the current price of BTC\n",
    "\n",
    "btc_response = requests.get(btc_url).json()\n",
    "\n",
    "# Use the json.dumps function to review the response data from the API call\n",
    "# Use the indent and sort_keys parameters to make the response object readable\n",
    "\n",
    "print(json.dumps(btc_response, indent=4, sort_keys=True))"
   ]
  },
  {
   "cell_type": "code",
   "execution_count": 7,
   "metadata": {
    "scrolled": true,
    "tags": []
   },
   "outputs": [
    {
     "name": "stdout",
     "output_type": "stream",
     "text": [
      "{\n",
      "    \"data\": {\n",
      "        \"1027\": {\n",
      "            \"circulating_supply\": 117778546,\n",
      "            \"id\": 1027,\n",
      "            \"last_updated\": 1633281258,\n",
      "            \"max_supply\": 0,\n",
      "            \"name\": \"Ethereum\",\n",
      "            \"quotes\": {\n",
      "                \"USD\": {\n",
      "                    \"market_cap\": 403828497526,\n",
      "                    \"percent_change_1h\": 0.347564705680006,\n",
      "                    \"percent_change_24h\": -0.536566076509672,\n",
      "                    \"percent_change_7d\": 16.3312929072649,\n",
      "                    \"percentage_change_1h\": 0.347564705680006,\n",
      "                    \"percentage_change_24h\": -0.536566076509672,\n",
      "                    \"percentage_change_7d\": 16.3312929072649,\n",
      "                    \"price\": 3428.25,\n",
      "                    \"volume_24h\": 18378730916\n",
      "                }\n",
      "            },\n",
      "            \"rank\": 2,\n",
      "            \"symbol\": \"ETH\",\n",
      "            \"total_supply\": 117778546,\n",
      "            \"website_slug\": \"ethereum\"\n",
      "        }\n",
      "    },\n",
      "    \"metadata\": {\n",
      "        \"error\": null,\n",
      "        \"num_cryptocurrencies\": 3105,\n",
      "        \"timestamp\": 1633281258\n",
      "    }\n",
      "}\n"
     ]
    }
   ],
   "source": [
    "# Using the Python requests library, make an API call to access the current price ETH\n",
    "\n",
    "eth_response = requests.get(eth_url).json()\n",
    "\n",
    "# Use the json.dumps function to review the response data from the API call\n",
    "# Use the indent and sort_keys parameters to make the response object readable\n",
    "\n",
    "print(json.dumps(eth_response, indent=4, sort_keys=True))"
   ]
  },
  {
   "cell_type": "markdown",
   "metadata": {},
   "source": [
    "#### Step 3: Navigate the JSON response object to access the current price of each coin, and store each in a variable."
   ]
  },
  {
   "cell_type": "code",
   "execution_count": 8,
   "metadata": {},
   "outputs": [
    {
     "data": {
      "text/plain": [
       "48160.0"
      ]
     },
     "execution_count": 8,
     "metadata": {},
     "output_type": "execute_result"
    }
   ],
   "source": [
    "# Navigate the BTC response object to access the current price of BTC\n",
    "\n",
    "btc_price = btc_response[\"data\"][\"1\"][\"quotes\"][\"USD\"][\"price\"]\n",
    "\n",
    "# Print the current price of BTC\n",
    "\n",
    "btc_price"
   ]
  },
  {
   "cell_type": "code",
   "execution_count": 9,
   "metadata": {},
   "outputs": [
    {
     "data": {
      "text/plain": [
       "3428.25"
      ]
     },
     "execution_count": 9,
     "metadata": {},
     "output_type": "execute_result"
    }
   ],
   "source": [
    "# Navigate the BTC response object to access the current price of ETH\n",
    "\n",
    "eth_price = eth_response[\"data\"][\"1027\"][\"quotes\"][\"USD\"][\"price\"]\n",
    "\n",
    "# Print the current price of ETH\n",
    "\n",
    "eth_price"
   ]
  },
  {
   "cell_type": "markdown",
   "metadata": {},
   "source": [
    "### Step 4: Calculate the value, in US dollars, of the current amount of each cryptocurrency and of the entire cryptocurrency wallet."
   ]
  },
  {
   "cell_type": "code",
   "execution_count": 10,
   "metadata": {},
   "outputs": [
    {
     "data": {
      "text/plain": [
       "57792.0"
      ]
     },
     "execution_count": 10,
     "metadata": {},
     "output_type": "execute_result"
    }
   ],
   "source": [
    "# Compute the current value of the BTC holding \n",
    "\n",
    "btc_value = btc_coins * btc_price\n",
    "\n",
    "# Print current value of your holding in BTC\n",
    "\n",
    "btc_value"
   ]
  },
  {
   "cell_type": "code",
   "execution_count": 11,
   "metadata": {},
   "outputs": [
    {
     "data": {
      "text/plain": [
       "18169.725"
      ]
     },
     "execution_count": 11,
     "metadata": {},
     "output_type": "execute_result"
    }
   ],
   "source": [
    "# Compute the current value of the ETH holding \n",
    "\n",
    "eth_value = eth_coins * eth_price\n",
    "\n",
    "# Print current value of your holding in ETH\n",
    "\n",
    "eth_value"
   ]
  },
  {
   "cell_type": "code",
   "execution_count": 12,
   "metadata": {},
   "outputs": [
    {
     "data": {
      "text/plain": [
       "75961.725"
      ]
     },
     "execution_count": 12,
     "metadata": {},
     "output_type": "execute_result"
    }
   ],
   "source": [
    "# Compute the total value of the cryptocurrency wallet\n",
    "# Add the value of the BTC holding to the value of the ETH holding\n",
    "\n",
    "total_crypto_wallet = btc_value + eth_value\n",
    "\n",
    "# Print current cryptocurrency wallet balance\n",
    "\n",
    "total_crypto_wallet"
   ]
  },
  {
   "cell_type": "markdown",
   "metadata": {},
   "source": [
    "### Evaluate the Stock and Bond Holdings by Using the Alpaca SDK\n",
    "\n",
    "In this section, you’ll determine the current value of a member’s stock and bond holdings. You’ll make an API call to Alpaca via the Alpaca SDK to get the current closing prices of the SPDR S&P 500 ETF Trust (ticker: SPY) and of the iShares Core US Aggregate Bond ETF (ticker: AGG). For the prototype, assume that the member holds 110 shares of SPY, which represents the stock portion of their portfolio, and 200 shares of AGG, which represents the bond portion. To do all this, complete the following steps:\n",
    "\n",
    "1. In the `Starter_Code` folder, create an environment file (`.env`) to store the values of your Alpaca API key and Alpaca secret key.\n",
    "\n",
    "2. Set the variables for the Alpaca API and secret keys. Using the Alpaca SDK, create the Alpaca `tradeapi.REST` object. In this object, include the parameters for the Alpaca API key, the secret key, and the version number.\n",
    "\n",
    "3. Set the following parameters for the Alpaca API call:\n",
    "\n",
    "    - `tickers`: Use the tickers for the member’s stock and bond holdings.\n",
    "\n",
    "    - `timeframe`: Use a time frame of one day.\n",
    "\n",
    "    - `start_date` and `end_date`: Use the same date for these parameters, and format them with the date of the previous weekday (or `2020-08-07`). This is because you want the one closing price for the most-recent trading day.\n",
    "\n",
    "4. Get the current closing prices for `SPY` and `AGG` by using the Alpaca `get_barset` function. Format the response as a Pandas DataFrame by including the `df` property at the end of the `get_barset` function.\n",
    "\n",
    "5. Navigating the Alpaca response DataFrame, select the `SPY` and `AGG` closing prices, and store them as variables.\n",
    "\n",
    "6. Calculate the value, in US dollars, of the current amount of shares in each of the stock and bond portions of the portfolio, and print the results.\n"
   ]
  },
  {
   "cell_type": "markdown",
   "metadata": {},
   "source": [
    "#### Review the total number of shares held in both (SPY) and (AGG)."
   ]
  },
  {
   "cell_type": "code",
   "execution_count": 13,
   "metadata": {},
   "outputs": [],
   "source": [
    "# Current amount of shares held in both the stock (SPY) and bond (AGG) portion of the portfolio.\n",
    "\n",
    "spy_shares = 110\n",
    "agg_shares = 200"
   ]
  },
  {
   "cell_type": "markdown",
   "metadata": {},
   "source": [
    "#### Step 1: In the `Starter_Code` folder, create an environment file (`.env`) to store the values of your Alpaca API key and Alpaca secret key."
   ]
  },
  {
   "cell_type": "markdown",
   "metadata": {},
   "source": [
    "#### Step 2: Set the variables for the Alpaca API and secret keys. Using the Alpaca SDK, create the Alpaca `tradeapi.REST` object. In this object, include the parameters for the Alpaca API key, the secret key, and the version number."
   ]
  },
  {
   "cell_type": "code",
   "execution_count": 14,
   "metadata": {},
   "outputs": [],
   "source": [
    "# Set the variables for the Alpaca API and secret keys\n",
    "\n",
    "alpaca_api_key = os.getenv(\"ALPACA_API_KEY\")\n",
    "alpaca_secret_key = os.getenv(\"ALPACA_SECRET_KEY\")\n",
    "\n",
    "# Create the Alpaca tradeapi.REST object\n",
    "\n",
    "alpaca = tradeapi.REST(\n",
    "    alpaca_api_key,\n",
    "    alpaca_secret_key,\n",
    "    api_version=\"v2\"\n",
    ")"
   ]
  },
  {
   "cell_type": "markdown",
   "metadata": {},
   "source": [
    "#### Step 3: Set the following parameters for the Alpaca API call:\n",
    "\n",
    "- `tickers`: Use the tickers for the member’s stock and bond holdings.\n",
    "\n",
    "- `timeframe`: Use a time frame of one day.\n",
    "\n",
    "- `start_date` and `end_date`: Use the same date for these parameters, and format them with the date of the previous weekday (or `2020-08-07`). This is because you want the one closing price for the most-recent trading day.\n"
   ]
  },
  {
   "cell_type": "code",
   "execution_count": 15,
   "metadata": {},
   "outputs": [],
   "source": [
    "# Set the tickers for both the bond and stock portion of the portfolio\n",
    "\n",
    "tickers = [\"SPY\", \"AGG\"]\n",
    "\n",
    "# Set timeframe to 1D \n",
    "\n",
    "timeframe = \"1D\"\n",
    "\n",
    "# Format current date as ISO format\n",
    "# Set both the start and end date at the date of your prior weekday \n",
    "# This will give you the closing price of the previous trading day\n",
    "# Alternatively you can use a start and end date of 2020-08-07\n",
    "\n",
    "start_date = pd.Timestamp(\"2021-09-30\", tz=\"America/New_York\").isoformat()\n",
    "end_date = pd.Timestamp(\"2021-09-30\", tz=\"America/New_York\").isoformat()"
   ]
  },
  {
   "cell_type": "markdown",
   "metadata": {},
   "source": [
    "#### Step 4: Get the current closing prices for `SPY` and `AGG` by using the Alpaca `get_barset` function. Format the response as a Pandas DataFrame by including the `df` property at the end of the `get_barset` function."
   ]
  },
  {
   "cell_type": "code",
   "execution_count": 16,
   "metadata": {},
   "outputs": [
    {
     "data": {
      "text/html": [
       "<div>\n",
       "<style scoped>\n",
       "    .dataframe tbody tr th:only-of-type {\n",
       "        vertical-align: middle;\n",
       "    }\n",
       "\n",
       "    .dataframe tbody tr th {\n",
       "        vertical-align: top;\n",
       "    }\n",
       "\n",
       "    .dataframe thead tr th {\n",
       "        text-align: left;\n",
       "    }\n",
       "\n",
       "    .dataframe thead tr:last-of-type th {\n",
       "        text-align: right;\n",
       "    }\n",
       "</style>\n",
       "<table border=\"1\" class=\"dataframe\">\n",
       "  <thead>\n",
       "    <tr>\n",
       "      <th></th>\n",
       "      <th colspan=\"5\" halign=\"left\">AGG</th>\n",
       "      <th colspan=\"5\" halign=\"left\">SPY</th>\n",
       "    </tr>\n",
       "    <tr>\n",
       "      <th></th>\n",
       "      <th>open</th>\n",
       "      <th>high</th>\n",
       "      <th>low</th>\n",
       "      <th>close</th>\n",
       "      <th>volume</th>\n",
       "      <th>open</th>\n",
       "      <th>high</th>\n",
       "      <th>low</th>\n",
       "      <th>close</th>\n",
       "      <th>volume</th>\n",
       "    </tr>\n",
       "    <tr>\n",
       "      <th>time</th>\n",
       "      <th></th>\n",
       "      <th></th>\n",
       "      <th></th>\n",
       "      <th></th>\n",
       "      <th></th>\n",
       "      <th></th>\n",
       "      <th></th>\n",
       "      <th></th>\n",
       "      <th></th>\n",
       "      <th></th>\n",
       "    </tr>\n",
       "  </thead>\n",
       "  <tbody>\n",
       "    <tr>\n",
       "      <th>2021-09-30 00:00:00-04:00</th>\n",
       "      <td>114.77</td>\n",
       "      <td>114.86</td>\n",
       "      <td>114.69</td>\n",
       "      <td>114.83</td>\n",
       "      <td>4461194</td>\n",
       "      <td>436.02</td>\n",
       "      <td>436.77</td>\n",
       "      <td>428.78</td>\n",
       "      <td>429.17</td>\n",
       "      <td>115315276</td>\n",
       "    </tr>\n",
       "  </tbody>\n",
       "</table>\n",
       "</div>"
      ],
      "text/plain": [
       "                              AGG                                      SPY  \\\n",
       "                             open    high     low   close   volume    open   \n",
       "time                                                                         \n",
       "2021-09-30 00:00:00-04:00  114.77  114.86  114.69  114.83  4461194  436.02   \n",
       "\n",
       "                                                              \n",
       "                             high     low   close     volume  \n",
       "time                                                          \n",
       "2021-09-30 00:00:00-04:00  436.77  428.78  429.17  115315276  "
      ]
     },
     "execution_count": 16,
     "metadata": {},
     "output_type": "execute_result"
    }
   ],
   "source": [
    "# Use the Alpaca get_barset function to get current closing prices the portfolio\n",
    "# Be sure to set the `df` property after the function to format the response object as a DataFrame\n",
    "\n",
    "prices_df = alpaca.get_barset(\n",
    "    tickers,\n",
    "    timeframe,\n",
    "    start=start_date,\n",
    "    end=end_date\n",
    ").df\n",
    "\n",
    "# Review the first 5 rows of the Alpaca DataFrame\n",
    "\n",
    "prices_df"
   ]
  },
  {
   "cell_type": "markdown",
   "metadata": {},
   "source": [
    "#### Step 5: Navigating the Alpaca response DataFrame, select the `SPY` and `AGG` closing prices, and store them as variables."
   ]
  },
  {
   "cell_type": "code",
   "execution_count": 17,
   "metadata": {},
   "outputs": [
    {
     "data": {
      "text/plain": [
       "114.83"
      ]
     },
     "execution_count": 17,
     "metadata": {},
     "output_type": "execute_result"
    }
   ],
   "source": [
    "# Access the closing price for AGG from the Alpaca DataFrame\n",
    "# Converting the value to a floating point number\n",
    "\n",
    "agg_close_price = float(prices_df[\"AGG\"][\"close\"])\n",
    "\n",
    "# Print the AGG closing price\n",
    "\n",
    "agg_close_price"
   ]
  },
  {
   "cell_type": "code",
   "execution_count": 18,
   "metadata": {},
   "outputs": [
    {
     "data": {
      "text/plain": [
       "429.17"
      ]
     },
     "execution_count": 18,
     "metadata": {},
     "output_type": "execute_result"
    }
   ],
   "source": [
    "# Access the closing price for SPY from the Alpaca DataFrame\n",
    "# Converting the value to a floating point number\n",
    "\n",
    "spy_close_price = float(prices_df[\"SPY\"][\"close\"])\n",
    "\n",
    "# Print the SPY closing price\n",
    "\n",
    "spy_close_price"
   ]
  },
  {
   "cell_type": "markdown",
   "metadata": {},
   "source": [
    "#### Step 6: Calculate the value, in US dollars, of the current amount of shares in each of the stock and bond portions of the portfolio, and print the results."
   ]
  },
  {
   "cell_type": "code",
   "execution_count": 19,
   "metadata": {},
   "outputs": [
    {
     "name": "stdout",
     "output_type": "stream",
     "text": [
      "Current value of bond portion of portfolio: $ 22966.00\n"
     ]
    }
   ],
   "source": [
    "# Calculate the current value of the bond portion of the portfolio\n",
    "\n",
    "agg_value = agg_shares * agg_close_price\n",
    "\n",
    "# Print the current value of the bond portfolio\n",
    "\n",
    "print(f\"Current value of bond portion of portfolio: ${agg_value: .2f}\")"
   ]
  },
  {
   "cell_type": "code",
   "execution_count": 20,
   "metadata": {},
   "outputs": [
    {
     "name": "stdout",
     "output_type": "stream",
     "text": [
      "Current value of stock portion of portfolio: $ 47208.70\n"
     ]
    }
   ],
   "source": [
    "# Calculate the current value of the stock portion of the portfolio\n",
    "\n",
    "spy_value = spy_shares * spy_close_price\n",
    "\n",
    "# Print the current value of the stock portfolio\n",
    "\n",
    "print(f\"Current value of stock portion of portfolio: ${spy_value: .2f}\")"
   ]
  },
  {
   "cell_type": "code",
   "execution_count": 21,
   "metadata": {},
   "outputs": [
    {
     "name": "stdout",
     "output_type": "stream",
     "text": [
      "Current total bonds & stocks value: $ 70174.70\n"
     ]
    }
   ],
   "source": [
    "# Calculate the total value of the stock and bond portion of the portfolio\n",
    "\n",
    "total_stocks_bonds = agg_value + spy_value\n",
    "\n",
    "# Print the current balance of the stock and bond portion of the portfolio\n",
    "\n",
    "print(f\"Current total bonds & stocks value: ${total_stocks_bonds: .2f}\")"
   ]
  },
  {
   "cell_type": "code",
   "execution_count": 22,
   "metadata": {},
   "outputs": [
    {
     "name": "stdout",
     "output_type": "stream",
     "text": [
      "Current value of crypto, stocks, & bonds (total portfolio): $ 146136.43\n"
     ]
    }
   ],
   "source": [
    "# Calculate the total value of the member's entire savings portfolio\n",
    "# Add the value of the cryptocurrency walled to the value of the total stocks and bonds\n",
    "\n",
    "total_portfolio = total_crypto_wallet + total_stocks_bonds\n",
    "\n",
    "# Print current cryptocurrency wallet balance\n",
    "\n",
    "print(f\"Current value of crypto, stocks, & bonds (total portfolio): ${total_portfolio: .2f}\")"
   ]
  },
  {
   "cell_type": "markdown",
   "metadata": {},
   "source": [
    "### Evaluate the Emergency Fund\n",
    "\n",
    "In this section, you’ll use the valuations for the cryptocurrency wallet and for the stock and bond portions of the portfolio to determine if the credit union member has enough savings to build an emergency fund into their financial plan. To do this, complete the following steps:\n",
    "\n",
    "1. Create a Python list named `savings_data` that has two elements. The first element contains the total value of the cryptocurrency wallet. The second element contains the total value of the stock and bond portions of the portfolio.\n",
    "\n",
    "2. Use the `savings_data` list to create a Pandas DataFrame named `savings_df`, and then display this DataFrame. The function to create the DataFrame should take the following three parameters:\n",
    "\n",
    "    - `savings_data`: Use the list that you just created.\n",
    "\n",
    "    - `columns`: Set this parameter equal to a Python list with a single value called `amount`.\n",
    "\n",
    "    - `index`: Set this parameter equal to a Python list with the values of `crypto` and `stock/bond`.\n",
    "\n",
    "3. Use the `savings_df` DataFrame to plot a pie chart that visualizes the composition of the member’s portfolio. The y-axis of the pie chart uses `amount`. Be sure to add a title.\n",
    "\n",
    "4. Using Python, determine if the current portfolio has enough to create an emergency fund as part of the member’s financial plan. Ideally, an emergency fund should equal to three times the member’s monthly income. To do this, implement the following steps:\n",
    "\n",
    "    1. Create a variable named `emergency_fund_value`, and set it equal to three times the value of the member’s `monthly_income` of $12000. (You set this earlier in Part 1).\n",
    "\n",
    "    2. Create a series of three if statements to determine if the member’s total portfolio is large enough to fund the emergency portfolio:\n",
    "\n",
    "        1. If the total portfolio value is greater than the emergency fund value, display a message congratulating the member for having enough money in this fund.\n",
    "\n",
    "        2. Else if the total portfolio value is equal to the emergency fund value, display a message congratulating the member on reaching this important financial goal.\n",
    "\n",
    "        3. Else the total portfolio is less than the emergency fund value, so display a message showing how many dollars away the member is from reaching the goal. (Subtract the total portfolio value from the emergency fund value.)\n"
   ]
  },
  {
   "cell_type": "markdown",
   "metadata": {},
   "source": [
    "#### Step 1: Create a Python list named `savings_data` that has two elements. The first element contains the total value of the cryptocurrency wallet. The second element contains the total value of the stock and bond portions of the portfolio."
   ]
  },
  {
   "cell_type": "code",
   "execution_count": 23,
   "metadata": {},
   "outputs": [
    {
     "data": {
      "text/plain": [
       "[75961.725, 70174.70000000001]"
      ]
     },
     "execution_count": 23,
     "metadata": {},
     "output_type": "execute_result"
    }
   ],
   "source": [
    "# Consolidate financial assets data into a Python list\n",
    "\n",
    "savings_data = [total_crypto_wallet, total_stocks_bonds]\n",
    "\n",
    "# Review the Python list savings_data\n",
    "\n",
    "savings_data"
   ]
  },
  {
   "cell_type": "markdown",
   "metadata": {},
   "source": [
    "#### Step 2: Use the `savings_data` list to create a Pandas DataFrame named `savings_df`, and then display this DataFrame. The function to create the DataFrame should take the following three parameters:\n",
    "\n",
    "- `savings_data`: Use the list that you just created.\n",
    "\n",
    "- `columns`: Set this parameter equal to a Python list with a single value called `amount`.\n",
    "\n",
    "- `index`: Set this parameter equal to a Python list with the values of `crypto` and `stock/bond`.\n"
   ]
  },
  {
   "cell_type": "code",
   "execution_count": 33,
   "metadata": {},
   "outputs": [
    {
     "data": {
      "text/html": [
       "<div>\n",
       "<style scoped>\n",
       "    .dataframe tbody tr th:only-of-type {\n",
       "        vertical-align: middle;\n",
       "    }\n",
       "\n",
       "    .dataframe tbody tr th {\n",
       "        vertical-align: top;\n",
       "    }\n",
       "\n",
       "    .dataframe thead th {\n",
       "        text-align: right;\n",
       "    }\n",
       "</style>\n",
       "<table border=\"1\" class=\"dataframe\">\n",
       "  <thead>\n",
       "    <tr style=\"text-align: right;\">\n",
       "      <th></th>\n",
       "      <th>amount</th>\n",
       "    </tr>\n",
       "  </thead>\n",
       "  <tbody>\n",
       "    <tr>\n",
       "      <th>total crypto wallet</th>\n",
       "      <td>75961.725</td>\n",
       "    </tr>\n",
       "    <tr>\n",
       "      <th>total stocks &amp; bonds</th>\n",
       "      <td>70174.700</td>\n",
       "    </tr>\n",
       "  </tbody>\n",
       "</table>\n",
       "</div>"
      ],
      "text/plain": [
       "                         amount\n",
       "total crypto wallet   75961.725\n",
       "total stocks & bonds  70174.700"
      ]
     },
     "execution_count": 33,
     "metadata": {},
     "output_type": "execute_result"
    }
   ],
   "source": [
    "# Create a Pandas DataFrame called savings_df \n",
    "\n",
    "savings_df = pd.DataFrame(savings_data, columns=[\"amount\"], index=[\"total crypto wallet\", \"total stocks & bonds\"])\n",
    "\n",
    "# Display the savings_df DataFrame\n",
    "\n",
    "savings_df"
   ]
  },
  {
   "cell_type": "markdown",
   "metadata": {},
   "source": [
    "#### Step 3: Use the `savings_df` DataFrame to plot a pie chart that visualizes the composition of the member’s portfolio. The y-axis of the pie chart uses `amount`. Be sure to add a title."
   ]
  },
  {
   "cell_type": "code",
   "execution_count": 41,
   "metadata": {},
   "outputs": [
    {
     "data": {
      "text/plain": [
       "<AxesSubplot:title={'center':'Total Crypto & Market portfolio Savings'}, ylabel='amount'>"
      ]
     },
     "execution_count": 41,
     "metadata": {},
     "output_type": "execute_result"
    },
    {
     "data": {
      "image/png": "[encoded data removed]",
      "text/plain": [
       "<Figure size 1080x576 with 1 Axes>"
      ]
     },
     "metadata": {},
     "output_type": "display_data"
    }
   ],
   "source": [
    "# Plot the total value of the member's portfolio (crypto and stock/bond) in a pie chart\n",
    "\n",
    "savings_df.plot.pie(\n",
    "    title=\"Total Crypto & Market portfolio Savings\",\n",
    "    figsize=(15,8),\n",
    "    y=\"amount\"\n",
    "   #subplots=True \n",
    ")"
   ]
  },
  {
   "cell_type": "markdown",
   "metadata": {},
   "source": [
    "#### Step 4: Using Python, determine if the current portfolio has enough to create an emergency fund as part of the member’s financial plan. Ideally, an emergency fund should equal to three times the member’s monthly income. To do this, implement the following steps:\n",
    "\n",
    "Step 1. Create a variable named `emergency_fund_value`, and set it equal to three times the value of the member’s `monthly_income` of 12000. (You set this earlier in Part 1).\n",
    "\n",
    "Step 2. Create a series of three if statements to determine if the member’s total portfolio is large enough to fund the emergency portfolio:\n",
    "\n",
    "* If the total portfolio value is greater than the emergency fund value, display a message congratulating the member for having enough money in this fund.\n",
    "\n",
    "* Else if the total portfolio value is equal to the emergency fund value, display a message congratulating the member on reaching this important financial goal.\n",
    "\n",
    "* Else the total portfolio is less than the emergency fund value, so display a message showing how many dollars away the member is from reaching the goal. (Subtract the total portfolio value from the emergency fund value.)\n"
   ]
  },
  {
   "cell_type": "markdown",
   "metadata": {},
   "source": [
    "##### Step 4-1: Create a variable named `emergency_fund_value`, and set it equal to three times the value of the member’s `monthly_income` of 12000. (You set this earlier in Part 1)."
   ]
  },
  {
   "cell_type": "code",
   "execution_count": 42,
   "metadata": {},
   "outputs": [
    {
     "data": {
      "text/plain": [
       "36000"
      ]
     },
     "execution_count": 42,
     "metadata": {},
     "output_type": "execute_result"
    }
   ],
   "source": [
    "# Create a variable named emergency_fund_value\n",
    "\n",
    "emergency_fund_value = 3 * monthly_income\n",
    "emergency_fund_value"
   ]
  },
  {
   "cell_type": "markdown",
   "metadata": {},
   "source": [
    "##### Step 4-2: Create a series of three if statements to determine if the member’s total portfolio is large enough to fund the emergency portfolio:\n",
    "\n",
    "* If the total portfolio value is greater than the emergency fund value, display a message congratulating the member for having enough money in this fund.\n",
    "\n",
    "* Else if the total portfolio value is equal to the emergency fund value, display a message congratulating the member on reaching this important financial goal.\n",
    "\n",
    "* Else the total portfolio is less than the emergency fund value, so display a message showing how many dollars away the member is from reaching the goal. (Subtract the total portfolio value from the emergency fund value.)"
   ]
  },
  {
   "cell_type": "code",
   "execution_count": 44,
   "metadata": {},
   "outputs": [
    {
     "name": "stdout",
     "output_type": "stream",
     "text": [
      "Congratulations! You have enough money in this fund.\n"
     ]
    }
   ],
   "source": [
    "# Evaluate the possibility of creating an emergency fund with 3 conditions:\n",
    "\n",
    "if total_portfolio > emergency_fund_value:\n",
    "    print(\"Congratulations! You have enough money in this fund.\")\n",
    "    \n",
    "elif total_portfolio == emergency_fund_value:\n",
    "    print(\"Congratulations on reaching this importan financial goal.\")  \n",
    "\n",
    "else:\n",
    "    difference = emergency_fund_value - total_portfolio\n",
    "    print(f\"Sorry, but you are ${difference: .2f} away from reaching your goal.\")"
   ]
  },
  {
   "cell_type": "markdown",
   "metadata": {},
   "source": [
    "## Part 2: Create a Financial Planner for Retirement"
   ]
  },
  {
   "cell_type": "markdown",
   "metadata": {},
   "source": [
    "### Create the Monte Carlo Simulation\n",
    "\n",
    "In this section, you’ll use the MCForecastTools library to create a Monte Carlo simulation for the member’s savings portfolio. To do this, complete the following steps:\n",
    "\n",
    "1. Make an API call via the Alpaca SDK to get 3 years of historical closing prices for a traditional 60/40 portfolio split: 60% stocks (SPY) and 40% bonds (AGG).\n",
    "\n",
    "2. Run a Monte Carlo simulation of 500 samples and 30 years for the 60/40 portfolio, and then plot the results.The following image shows the overlay line plot resulting from a simulation with these characteristics. However, because a random number generator is used to run each live Monte Carlo simulation, your image will differ slightly from this exact image:\n",
    "\n",
    "![A screenshot depicts the resulting plot.](Images/5-4-monte-carlo-line-plot.png)\n",
    "\n",
    "3. Plot the probability distribution of the Monte Carlo simulation. Plot the probability distribution of the Monte Carlo simulation. The following image shows the histogram plot resulting from a simulation with these characteristics. However, because a random number generator is used to run each live Monte Carlo simulation, your image will differ slightly from this exact image:\n",
    "\n",
    "![A screenshot depicts the histogram plot.](Images/5-4-monte-carlo-histogram.png)\n",
    "\n",
    "4. Generate the summary statistics for the Monte Carlo simulation.\n",
    "\n"
   ]
  },
  {
   "cell_type": "markdown",
   "metadata": {},
   "source": [
    "#### Step 1: Make an API call via the Alpaca SDK to get 3 years of historical closing prices for a traditional 60/40 portfolio split: 60% stocks (SPY) and 40% bonds (AGG)."
   ]
  },
  {
   "cell_type": "code",
   "execution_count": 45,
   "metadata": {},
   "outputs": [],
   "source": [
    "# Set start and end dates of 3 years back from your current date\n",
    "# Alternatively, you can use an end date of 2020-08-07 and work 3 years back from that date \n",
    "\n",
    "startdate = pd.Timestamp(\"2018-09-30\", tz=\"America/New_York\").isoformat()\n",
    "enddate = pd.Timestamp(\"2021-09-30\", tz=\"America/New_York\").isoformat()\n",
    "\n",
    "# Set number of rows to 1000 to retrieve the maximum amount of rows\n",
    "\n",
    "limit_rows = 1000"
   ]
  },
  {
   "cell_type": "code",
   "execution_count": 46,
   "metadata": {
    "scrolled": true,
    "tags": []
   },
   "outputs": [
    {
     "data": {
      "text/html": [
       "<div>\n",
       "<style scoped>\n",
       "    .dataframe tbody tr th:only-of-type {\n",
       "        vertical-align: middle;\n",
       "    }\n",
       "\n",
       "    .dataframe tbody tr th {\n",
       "        vertical-align: top;\n",
       "    }\n",
       "\n",
       "    .dataframe thead tr th {\n",
       "        text-align: left;\n",
       "    }\n",
       "\n",
       "    .dataframe thead tr:last-of-type th {\n",
       "        text-align: right;\n",
       "    }\n",
       "</style>\n",
       "<table border=\"1\" class=\"dataframe\">\n",
       "  <thead>\n",
       "    <tr>\n",
       "      <th></th>\n",
       "      <th colspan=\"5\" halign=\"left\">AGG</th>\n",
       "      <th colspan=\"5\" halign=\"left\">SPY</th>\n",
       "    </tr>\n",
       "    <tr>\n",
       "      <th></th>\n",
       "      <th>open</th>\n",
       "      <th>high</th>\n",
       "      <th>low</th>\n",
       "      <th>close</th>\n",
       "      <th>volume</th>\n",
       "      <th>open</th>\n",
       "      <th>high</th>\n",
       "      <th>low</th>\n",
       "      <th>close</th>\n",
       "      <th>volume</th>\n",
       "    </tr>\n",
       "    <tr>\n",
       "      <th>time</th>\n",
       "      <th></th>\n",
       "      <th></th>\n",
       "      <th></th>\n",
       "      <th></th>\n",
       "      <th></th>\n",
       "      <th></th>\n",
       "      <th></th>\n",
       "      <th></th>\n",
       "      <th></th>\n",
       "      <th></th>\n",
       "    </tr>\n",
       "  </thead>\n",
       "  <tbody>\n",
       "    <tr>\n",
       "      <th>2018-10-01 00:00:00-04:00</th>\n",
       "      <td>105.3500</td>\n",
       "      <td>105.3500</td>\n",
       "      <td>105.2000</td>\n",
       "      <td>105.220</td>\n",
       "      <td>3048167.0</td>\n",
       "      <td>292.13</td>\n",
       "      <td>292.930</td>\n",
       "      <td>290.98</td>\n",
       "      <td>291.67</td>\n",
       "      <td>45685920</td>\n",
       "    </tr>\n",
       "    <tr>\n",
       "      <th>2018-10-02 00:00:00-04:00</th>\n",
       "      <td>105.3200</td>\n",
       "      <td>105.4600</td>\n",
       "      <td>105.2500</td>\n",
       "      <td>105.355</td>\n",
       "      <td>4723031.0</td>\n",
       "      <td>291.56</td>\n",
       "      <td>292.355</td>\n",
       "      <td>291.14</td>\n",
       "      <td>291.57</td>\n",
       "      <td>36043833</td>\n",
       "    </tr>\n",
       "    <tr>\n",
       "      <th>2018-10-03 00:00:00-04:00</th>\n",
       "      <td>105.2200</td>\n",
       "      <td>105.2400</td>\n",
       "      <td>104.7500</td>\n",
       "      <td>104.860</td>\n",
       "      <td>2493313.0</td>\n",
       "      <td>292.72</td>\n",
       "      <td>293.210</td>\n",
       "      <td>291.32</td>\n",
       "      <td>291.78</td>\n",
       "      <td>44874126</td>\n",
       "    </tr>\n",
       "    <tr>\n",
       "      <th>2018-10-04 00:00:00-04:00</th>\n",
       "      <td>104.6652</td>\n",
       "      <td>104.7171</td>\n",
       "      <td>104.4701</td>\n",
       "      <td>104.560</td>\n",
       "      <td>4713051.0</td>\n",
       "      <td>291.18</td>\n",
       "      <td>291.240</td>\n",
       "      <td>287.66</td>\n",
       "      <td>289.47</td>\n",
       "      <td>85200164</td>\n",
       "    </tr>\n",
       "    <tr>\n",
       "      <th>2018-10-05 00:00:00-04:00</th>\n",
       "      <td>104.4600</td>\n",
       "      <td>104.4800</td>\n",
       "      <td>104.1900</td>\n",
       "      <td>104.330</td>\n",
       "      <td>3307883.0</td>\n",
       "      <td>289.69</td>\n",
       "      <td>290.270</td>\n",
       "      <td>286.22</td>\n",
       "      <td>287.89</td>\n",
       "      <td>77118851</td>\n",
       "    </tr>\n",
       "  </tbody>\n",
       "</table>\n",
       "</div>"
      ],
      "text/plain": [
       "                                AGG                                          \\\n",
       "                               open      high       low    close     volume   \n",
       "time                                                                          \n",
       "2018-10-01 00:00:00-04:00  105.3500  105.3500  105.2000  105.220  3048167.0   \n",
       "2018-10-02 00:00:00-04:00  105.3200  105.4600  105.2500  105.355  4723031.0   \n",
       "2018-10-03 00:00:00-04:00  105.2200  105.2400  104.7500  104.860  2493313.0   \n",
       "2018-10-04 00:00:00-04:00  104.6652  104.7171  104.4701  104.560  4713051.0   \n",
       "2018-10-05 00:00:00-04:00  104.4600  104.4800  104.1900  104.330  3307883.0   \n",
       "\n",
       "                              SPY                                     \n",
       "                             open     high     low   close    volume  \n",
       "time                                                                  \n",
       "2018-10-01 00:00:00-04:00  292.13  292.930  290.98  291.67  45685920  \n",
       "2018-10-02 00:00:00-04:00  291.56  292.355  291.14  291.57  36043833  \n",
       "2018-10-03 00:00:00-04:00  292.72  293.210  291.32  291.78  44874126  \n",
       "2018-10-04 00:00:00-04:00  291.18  291.240  287.66  289.47  85200164  \n",
       "2018-10-05 00:00:00-04:00  289.69  290.270  286.22  287.89  77118851  "
      ]
     },
     "metadata": {},
     "output_type": "display_data"
    },
    {
     "data": {
      "text/html": [
       "<div>\n",
       "<style scoped>\n",
       "    .dataframe tbody tr th:only-of-type {\n",
       "        vertical-align: middle;\n",
       "    }\n",
       "\n",
       "    .dataframe tbody tr th {\n",
       "        vertical-align: top;\n",
       "    }\n",
       "\n",
       "    .dataframe thead tr th {\n",
       "        text-align: left;\n",
       "    }\n",
       "\n",
       "    .dataframe thead tr:last-of-type th {\n",
       "        text-align: right;\n",
       "    }\n",
       "</style>\n",
       "<table border=\"1\" class=\"dataframe\">\n",
       "  <thead>\n",
       "    <tr>\n",
       "      <th></th>\n",
       "      <th colspan=\"5\" halign=\"left\">AGG</th>\n",
       "      <th colspan=\"5\" halign=\"left\">SPY</th>\n",
       "    </tr>\n",
       "    <tr>\n",
       "      <th></th>\n",
       "      <th>open</th>\n",
       "      <th>high</th>\n",
       "      <th>low</th>\n",
       "      <th>close</th>\n",
       "      <th>volume</th>\n",
       "      <th>open</th>\n",
       "      <th>high</th>\n",
       "      <th>low</th>\n",
       "      <th>close</th>\n",
       "      <th>volume</th>\n",
       "    </tr>\n",
       "    <tr>\n",
       "      <th>time</th>\n",
       "      <th></th>\n",
       "      <th></th>\n",
       "      <th></th>\n",
       "      <th></th>\n",
       "      <th></th>\n",
       "      <th></th>\n",
       "      <th></th>\n",
       "      <th></th>\n",
       "      <th></th>\n",
       "      <th></th>\n",
       "    </tr>\n",
       "  </thead>\n",
       "  <tbody>\n",
       "    <tr>\n",
       "      <th>2021-09-24 00:00:00-04:00</th>\n",
       "      <td>115.50</td>\n",
       "      <td>115.5055</td>\n",
       "      <td>115.319</td>\n",
       "      <td>115.41</td>\n",
       "      <td>3388185.0</td>\n",
       "      <td>441.44</td>\n",
       "      <td>444.67</td>\n",
       "      <td>441.21</td>\n",
       "      <td>443.92</td>\n",
       "      <td>52199034</td>\n",
       "    </tr>\n",
       "    <tr>\n",
       "      <th>2021-09-27 00:00:00-04:00</th>\n",
       "      <td>115.21</td>\n",
       "      <td>115.3750</td>\n",
       "      <td>115.180</td>\n",
       "      <td>115.25</td>\n",
       "      <td>4433082.0</td>\n",
       "      <td>442.81</td>\n",
       "      <td>444.05</td>\n",
       "      <td>441.90</td>\n",
       "      <td>442.68</td>\n",
       "      <td>51611925</td>\n",
       "    </tr>\n",
       "    <tr>\n",
       "      <th>2021-09-28 00:00:00-04:00</th>\n",
       "      <td>114.90</td>\n",
       "      <td>114.9999</td>\n",
       "      <td>114.695</td>\n",
       "      <td>114.78</td>\n",
       "      <td>6487248.0</td>\n",
       "      <td>439.69</td>\n",
       "      <td>440.04</td>\n",
       "      <td>432.94</td>\n",
       "      <td>433.74</td>\n",
       "      <td>114959576</td>\n",
       "    </tr>\n",
       "    <tr>\n",
       "      <th>2021-09-29 00:00:00-04:00</th>\n",
       "      <td>114.97</td>\n",
       "      <td>115.0600</td>\n",
       "      <td>114.715</td>\n",
       "      <td>114.85</td>\n",
       "      <td>5099586.0</td>\n",
       "      <td>435.19</td>\n",
       "      <td>437.04</td>\n",
       "      <td>433.85</td>\n",
       "      <td>434.44</td>\n",
       "      <td>69828191</td>\n",
       "    </tr>\n",
       "    <tr>\n",
       "      <th>2021-09-30 00:00:00-04:00</th>\n",
       "      <td>114.77</td>\n",
       "      <td>114.8600</td>\n",
       "      <td>114.690</td>\n",
       "      <td>114.83</td>\n",
       "      <td>4461194.0</td>\n",
       "      <td>436.02</td>\n",
       "      <td>436.77</td>\n",
       "      <td>428.78</td>\n",
       "      <td>429.17</td>\n",
       "      <td>115315276</td>\n",
       "    </tr>\n",
       "  </tbody>\n",
       "</table>\n",
       "</div>"
      ],
      "text/plain": [
       "                              AGG                                        \\\n",
       "                             open      high      low   close     volume   \n",
       "time                                                                      \n",
       "2021-09-24 00:00:00-04:00  115.50  115.5055  115.319  115.41  3388185.0   \n",
       "2021-09-27 00:00:00-04:00  115.21  115.3750  115.180  115.25  4433082.0   \n",
       "2021-09-28 00:00:00-04:00  114.90  114.9999  114.695  114.78  6487248.0   \n",
       "2021-09-29 00:00:00-04:00  114.97  115.0600  114.715  114.85  5099586.0   \n",
       "2021-09-30 00:00:00-04:00  114.77  114.8600  114.690  114.83  4461194.0   \n",
       "\n",
       "                              SPY                                     \n",
       "                             open    high     low   close     volume  \n",
       "time                                                                  \n",
       "2021-09-24 00:00:00-04:00  441.44  444.67  441.21  443.92   52199034  \n",
       "2021-09-27 00:00:00-04:00  442.81  444.05  441.90  442.68   51611925  \n",
       "2021-09-28 00:00:00-04:00  439.69  440.04  432.94  433.74  114959576  \n",
       "2021-09-29 00:00:00-04:00  435.19  437.04  433.85  434.44   69828191  \n",
       "2021-09-30 00:00:00-04:00  436.02  436.77  428.78  429.17  115315276  "
      ]
     },
     "metadata": {},
     "output_type": "display_data"
    }
   ],
   "source": [
    "# Use the Alpaca get_barset function to make the API call to get the 3 years worth of pricing dataMC_60_40_weighthe tickers and timeframe parameters should have been set in Part 1 of this activity \n",
    "# The start and end dates should be updated with the information set above\n",
    "# Remember to add the df property to the end of the call so the response is returned as a DataFrame\n",
    "\n",
    "market_pricing_3yr_df = alpaca.get_barset(\n",
    "    tickers,\n",
    "    timeframe,\n",
    "    start=startdate,\n",
    "    end=enddate,\n",
    "    limit=limit_rows\n",
    ").df\n",
    "\n",
    "# Display both the first and last five rows of the DataFrame\n",
    "\n",
    "display(market_pricing_3yr_df.head())\n",
    "display(market_pricing_3yr_df.tail())"
   ]
  },
  {
   "cell_type": "markdown",
   "metadata": {},
   "source": [
    "#### Step 2: Run a Monte Carlo simulation of 500 samples and 30 years for the 60/40 portfolio, and then plot the results."
   ]
  },
  {
   "cell_type": "code",
   "execution_count": 48,
   "metadata": {},
   "outputs": [
    {
     "data": {
      "text/html": [
       "<div>\n",
       "<style scoped>\n",
       "    .dataframe tbody tr th:only-of-type {\n",
       "        vertical-align: middle;\n",
       "    }\n",
       "\n",
       "    .dataframe tbody tr th {\n",
       "        vertical-align: top;\n",
       "    }\n",
       "\n",
       "    .dataframe thead tr th {\n",
       "        text-align: left;\n",
       "    }\n",
       "\n",
       "    .dataframe thead tr:last-of-type th {\n",
       "        text-align: right;\n",
       "    }\n",
       "</style>\n",
       "<table border=\"1\" class=\"dataframe\">\n",
       "  <thead>\n",
       "    <tr>\n",
       "      <th></th>\n",
       "      <th colspan=\"6\" halign=\"left\">AGG</th>\n",
       "      <th colspan=\"6\" halign=\"left\">SPY</th>\n",
       "    </tr>\n",
       "    <tr>\n",
       "      <th></th>\n",
       "      <th>open</th>\n",
       "      <th>high</th>\n",
       "      <th>low</th>\n",
       "      <th>close</th>\n",
       "      <th>volume</th>\n",
       "      <th>daily_return</th>\n",
       "      <th>open</th>\n",
       "      <th>high</th>\n",
       "      <th>low</th>\n",
       "      <th>close</th>\n",
       "      <th>volume</th>\n",
       "      <th>daily_return</th>\n",
       "    </tr>\n",
       "    <tr>\n",
       "      <th>time</th>\n",
       "      <th></th>\n",
       "      <th></th>\n",
       "      <th></th>\n",
       "      <th></th>\n",
       "      <th></th>\n",
       "      <th></th>\n",
       "      <th></th>\n",
       "      <th></th>\n",
       "      <th></th>\n",
       "      <th></th>\n",
       "      <th></th>\n",
       "      <th></th>\n",
       "    </tr>\n",
       "  </thead>\n",
       "  <tbody>\n",
       "    <tr>\n",
       "      <th>2018-10-01 00:00:00-04:00</th>\n",
       "      <td>105.3500</td>\n",
       "      <td>105.3500</td>\n",
       "      <td>105.2000</td>\n",
       "      <td>105.220</td>\n",
       "      <td>3048167.0</td>\n",
       "      <td>NaN</td>\n",
       "      <td>292.13</td>\n",
       "      <td>292.930</td>\n",
       "      <td>290.98</td>\n",
       "      <td>291.67</td>\n",
       "      <td>45685920</td>\n",
       "      <td>NaN</td>\n",
       "    </tr>\n",
       "    <tr>\n",
       "      <th>2018-10-02 00:00:00-04:00</th>\n",
       "      <td>105.3200</td>\n",
       "      <td>105.4600</td>\n",
       "      <td>105.2500</td>\n",
       "      <td>105.355</td>\n",
       "      <td>4723031.0</td>\n",
       "      <td>0.001283</td>\n",
       "      <td>291.56</td>\n",
       "      <td>292.355</td>\n",
       "      <td>291.14</td>\n",
       "      <td>291.57</td>\n",
       "      <td>36043833</td>\n",
       "      <td>-0.000343</td>\n",
       "    </tr>\n",
       "    <tr>\n",
       "      <th>2018-10-03 00:00:00-04:00</th>\n",
       "      <td>105.2200</td>\n",
       "      <td>105.2400</td>\n",
       "      <td>104.7500</td>\n",
       "      <td>104.860</td>\n",
       "      <td>2493313.0</td>\n",
       "      <td>-0.004698</td>\n",
       "      <td>292.72</td>\n",
       "      <td>293.210</td>\n",
       "      <td>291.32</td>\n",
       "      <td>291.78</td>\n",
       "      <td>44874126</td>\n",
       "      <td>0.000720</td>\n",
       "    </tr>\n",
       "    <tr>\n",
       "      <th>2018-10-04 00:00:00-04:00</th>\n",
       "      <td>104.6652</td>\n",
       "      <td>104.7171</td>\n",
       "      <td>104.4701</td>\n",
       "      <td>104.560</td>\n",
       "      <td>4713051.0</td>\n",
       "      <td>-0.002861</td>\n",
       "      <td>291.18</td>\n",
       "      <td>291.240</td>\n",
       "      <td>287.66</td>\n",
       "      <td>289.47</td>\n",
       "      <td>85200164</td>\n",
       "      <td>-0.007917</td>\n",
       "    </tr>\n",
       "    <tr>\n",
       "      <th>2018-10-05 00:00:00-04:00</th>\n",
       "      <td>104.4600</td>\n",
       "      <td>104.4800</td>\n",
       "      <td>104.1900</td>\n",
       "      <td>104.330</td>\n",
       "      <td>3307883.0</td>\n",
       "      <td>-0.002200</td>\n",
       "      <td>289.69</td>\n",
       "      <td>290.270</td>\n",
       "      <td>286.22</td>\n",
       "      <td>287.89</td>\n",
       "      <td>77118851</td>\n",
       "      <td>-0.005458</td>\n",
       "    </tr>\n",
       "  </tbody>\n",
       "</table>\n",
       "</div>"
      ],
      "text/plain": [
       "                                AGG                                          \\\n",
       "                               open      high       low    close     volume   \n",
       "time                                                                          \n",
       "2018-10-01 00:00:00-04:00  105.3500  105.3500  105.2000  105.220  3048167.0   \n",
       "2018-10-02 00:00:00-04:00  105.3200  105.4600  105.2500  105.355  4723031.0   \n",
       "2018-10-03 00:00:00-04:00  105.2200  105.2400  104.7500  104.860  2493313.0   \n",
       "2018-10-04 00:00:00-04:00  104.6652  104.7171  104.4701  104.560  4713051.0   \n",
       "2018-10-05 00:00:00-04:00  104.4600  104.4800  104.1900  104.330  3307883.0   \n",
       "\n",
       "                                           SPY                           \\\n",
       "                          daily_return    open     high     low   close   \n",
       "time                                                                      \n",
       "2018-10-01 00:00:00-04:00          NaN  292.13  292.930  290.98  291.67   \n",
       "2018-10-02 00:00:00-04:00     0.001283  291.56  292.355  291.14  291.57   \n",
       "2018-10-03 00:00:00-04:00    -0.004698  292.72  293.210  291.32  291.78   \n",
       "2018-10-04 00:00:00-04:00    -0.002861  291.18  291.240  287.66  289.47   \n",
       "2018-10-05 00:00:00-04:00    -0.002200  289.69  290.270  286.22  287.89   \n",
       "\n",
       "                                                  \n",
       "                             volume daily_return  \n",
       "time                                              \n",
       "2018-10-01 00:00:00-04:00  45685920          NaN  \n",
       "2018-10-02 00:00:00-04:00  36043833    -0.000343  \n",
       "2018-10-03 00:00:00-04:00  44874126     0.000720  \n",
       "2018-10-04 00:00:00-04:00  85200164    -0.007917  \n",
       "2018-10-05 00:00:00-04:00  77118851    -0.005458  "
      ]
     },
     "execution_count": 48,
     "metadata": {},
     "output_type": "execute_result"
    }
   ],
   "source": [
    "# Configure the Monte Carlo simulation to forecast 30 years cumulative returns\n",
    "# The weights should be split 40% to AGG and 60% to SPY.\n",
    "# Run 500 samples.\n",
    "\n",
    "MC_60_40_weight = MCSimulation(\n",
    "    portfolio_data = market_pricing_3yr_df,\n",
    "    weights = [.4, .6],\n",
    "    num_simulation = 500,\n",
    "    num_trading_days = 252*30\n",
    ")\n",
    "\n",
    "# Review the simulation input data\n",
    "\n",
    "MC_60_40_weight.portfolio_data.head()"
   ]
  },
  {
   "cell_type": "code",
   "execution_count": 50,
   "metadata": {
    "scrolled": true,
    "tags": []
   },
   "outputs": [
    {
     "name": "stdout",
     "output_type": "stream",
     "text": [
      "Running Monte Carlo simulation number 0.\n",
      "Running Monte Carlo simulation number 10.\n",
      "Running Monte Carlo simulation number 20.\n",
      "Running Monte Carlo simulation number 30.\n",
      "Running Monte Carlo simulation number 40.\n",
      "Running Monte Carlo simulation number 50.\n",
      "Running Monte Carlo simulation number 60.\n",
      "Running Monte Carlo simulation number 70.\n",
      "Running Monte Carlo simulation number 80.\n",
      "Running Monte Carlo simulation number 90.\n",
      "Running Monte Carlo simulation number 100.\n"
     ]
    },
    {
     "name": "stderr",
     "output_type": "stream",
     "text": [
      "C:\\Users\\Erin Kenny\\Desktop\\FinTech_Workspace\\Module_5_Challenge\\Module_5_Ch_Financial_Simulations_and_APIs\\MCForecastTools.py:117: PerformanceWarning: DataFrame is highly fragmented.  This is usually the result of calling `frame.insert` many times, which has poor performance.  Consider joining all columns at once using pd.concat(axis=1) instead.  To get a de-fragmented frame, use `newframe = frame.copy()`\n",
      "  portfolio_cumulative_returns[n] = (1 + sim_df.fillna(0)).cumprod()\n"
     ]
    },
    {
     "name": "stdout",
     "output_type": "stream",
     "text": [
      "Running Monte Carlo simulation number 110.\n",
      "Running Monte Carlo simulation number 120.\n",
      "Running Monte Carlo simulation number 130.\n",
      "Running Monte Carlo simulation number 140.\n",
      "Running Monte Carlo simulation number 150.\n",
      "Running Monte Carlo simulation number 160.\n",
      "Running Monte Carlo simulation number 170.\n",
      "Running Monte Carlo simulation number 180.\n",
      "Running Monte Carlo simulation number 190.\n",
      "Running Monte Carlo simulation number 200.\n",
      "Running Monte Carlo simulation number 210.\n",
      "Running Monte Carlo simulation number 220.\n",
      "Running Monte Carlo simulation number 230.\n",
      "Running Monte Carlo simulation number 240.\n",
      "Running Monte Carlo simulation number 250.\n",
      "Running Monte Carlo simulation number 260.\n",
      "Running Monte Carlo simulation number 270.\n",
      "Running Monte Carlo simulation number 280.\n",
      "Running Monte Carlo simulation number 290.\n",
      "Running Monte Carlo simulation number 300.\n",
      "Running Monte Carlo simulation number 310.\n",
      "Running Monte Carlo simulation number 320.\n",
      "Running Monte Carlo simulation number 330.\n",
      "Running Monte Carlo simulation number 340.\n",
      "Running Monte Carlo simulation number 350.\n",
      "Running Monte Carlo simulation number 360.\n",
      "Running Monte Carlo simulation number 370.\n",
      "Running Monte Carlo simulation number 380.\n",
      "Running Monte Carlo simulation number 390.\n",
      "Running Monte Carlo simulation number 400.\n",
      "Running Monte Carlo simulation number 410.\n",
      "Running Monte Carlo simulation number 420.\n",
      "Running Monte Carlo simulation number 430.\n",
      "Running Monte Carlo simulation number 440.\n",
      "Running Monte Carlo simulation number 450.\n",
      "Running Monte Carlo simulation number 460.\n",
      "Running Monte Carlo simulation number 470.\n",
      "Running Monte Carlo simulation number 480.\n",
      "Running Monte Carlo simulation number 490.\n"
     ]
    },
    {
     "data": {
      "text/html": [
       "<div>\n",
       "<style scoped>\n",
       "    .dataframe tbody tr th:only-of-type {\n",
       "        vertical-align: middle;\n",
       "    }\n",
       "\n",
       "    .dataframe tbody tr th {\n",
       "        vertical-align: top;\n",
       "    }\n",
       "\n",
       "    .dataframe thead th {\n",
       "        text-align: right;\n",
       "    }\n",
       "</style>\n",
       "<table border=\"1\" class=\"dataframe\">\n",
       "  <thead>\n",
       "    <tr style=\"text-align: right;\">\n",
       "      <th></th>\n",
       "      <th>0</th>\n",
       "      <th>1</th>\n",
       "      <th>2</th>\n",
       "      <th>3</th>\n",
       "      <th>4</th>\n",
       "      <th>5</th>\n",
       "      <th>6</th>\n",
       "      <th>7</th>\n",
       "      <th>8</th>\n",
       "      <th>9</th>\n",
       "      <th>...</th>\n",
       "      <th>490</th>\n",
       "      <th>491</th>\n",
       "      <th>492</th>\n",
       "      <th>493</th>\n",
       "      <th>494</th>\n",
       "      <th>495</th>\n",
       "      <th>496</th>\n",
       "      <th>497</th>\n",
       "      <th>498</th>\n",
       "      <th>499</th>\n",
       "    </tr>\n",
       "  </thead>\n",
       "  <tbody>\n",
       "    <tr>\n",
       "      <th>0</th>\n",
       "      <td>1.000000</td>\n",
       "      <td>1.000000</td>\n",
       "      <td>1.000000</td>\n",
       "      <td>1.000000</td>\n",
       "      <td>1.000000</td>\n",
       "      <td>1.000000</td>\n",
       "      <td>1.000000</td>\n",
       "      <td>1.000000</td>\n",
       "      <td>1.000000</td>\n",
       "      <td>1.000000</td>\n",
       "      <td>...</td>\n",
       "      <td>1.000000</td>\n",
       "      <td>1.000000</td>\n",
       "      <td>1.000000</td>\n",
       "      <td>1.000000</td>\n",
       "      <td>1.000000</td>\n",
       "      <td>1.000000</td>\n",
       "      <td>1.000000</td>\n",
       "      <td>1.000000</td>\n",
       "      <td>1.000000</td>\n",
       "      <td>1.000000</td>\n",
       "    </tr>\n",
       "    <tr>\n",
       "      <th>1</th>\n",
       "      <td>0.999756</td>\n",
       "      <td>0.987783</td>\n",
       "      <td>0.982901</td>\n",
       "      <td>0.998398</td>\n",
       "      <td>0.996221</td>\n",
       "      <td>0.982515</td>\n",
       "      <td>1.012898</td>\n",
       "      <td>1.013867</td>\n",
       "      <td>0.997813</td>\n",
       "      <td>1.008037</td>\n",
       "      <td>...</td>\n",
       "      <td>0.998647</td>\n",
       "      <td>0.990678</td>\n",
       "      <td>1.002807</td>\n",
       "      <td>1.006334</td>\n",
       "      <td>0.993074</td>\n",
       "      <td>0.997057</td>\n",
       "      <td>0.991973</td>\n",
       "      <td>0.992673</td>\n",
       "      <td>1.020571</td>\n",
       "      <td>1.010735</td>\n",
       "    </tr>\n",
       "    <tr>\n",
       "      <th>2</th>\n",
       "      <td>1.005468</td>\n",
       "      <td>0.980128</td>\n",
       "      <td>0.984699</td>\n",
       "      <td>0.992774</td>\n",
       "      <td>0.992771</td>\n",
       "      <td>0.984358</td>\n",
       "      <td>1.007954</td>\n",
       "      <td>1.014245</td>\n",
       "      <td>1.014817</td>\n",
       "      <td>1.005217</td>\n",
       "      <td>...</td>\n",
       "      <td>0.995197</td>\n",
       "      <td>0.994035</td>\n",
       "      <td>1.013237</td>\n",
       "      <td>1.015576</td>\n",
       "      <td>1.006872</td>\n",
       "      <td>0.997730</td>\n",
       "      <td>1.003387</td>\n",
       "      <td>1.003384</td>\n",
       "      <td>1.012278</td>\n",
       "      <td>1.012162</td>\n",
       "    </tr>\n",
       "    <tr>\n",
       "      <th>3</th>\n",
       "      <td>1.019181</td>\n",
       "      <td>0.975716</td>\n",
       "      <td>0.988372</td>\n",
       "      <td>0.983983</td>\n",
       "      <td>0.988670</td>\n",
       "      <td>0.981845</td>\n",
       "      <td>1.020490</td>\n",
       "      <td>1.025791</td>\n",
       "      <td>1.007924</td>\n",
       "      <td>1.006626</td>\n",
       "      <td>...</td>\n",
       "      <td>0.991284</td>\n",
       "      <td>1.003611</td>\n",
       "      <td>1.004263</td>\n",
       "      <td>0.998605</td>\n",
       "      <td>1.014090</td>\n",
       "      <td>0.984626</td>\n",
       "      <td>0.995706</td>\n",
       "      <td>1.012401</td>\n",
       "      <td>1.000274</td>\n",
       "      <td>1.022583</td>\n",
       "    </tr>\n",
       "    <tr>\n",
       "      <th>4</th>\n",
       "      <td>1.015927</td>\n",
       "      <td>0.991196</td>\n",
       "      <td>0.978342</td>\n",
       "      <td>0.978293</td>\n",
       "      <td>0.995405</td>\n",
       "      <td>0.985472</td>\n",
       "      <td>1.017876</td>\n",
       "      <td>1.040821</td>\n",
       "      <td>1.004132</td>\n",
       "      <td>0.995739</td>\n",
       "      <td>...</td>\n",
       "      <td>0.981421</td>\n",
       "      <td>1.001508</td>\n",
       "      <td>1.024940</td>\n",
       "      <td>1.003860</td>\n",
       "      <td>1.015740</td>\n",
       "      <td>0.979818</td>\n",
       "      <td>1.008284</td>\n",
       "      <td>1.012708</td>\n",
       "      <td>1.010967</td>\n",
       "      <td>1.022075</td>\n",
       "    </tr>\n",
       "    <tr>\n",
       "      <th>...</th>\n",
       "      <td>...</td>\n",
       "      <td>...</td>\n",
       "      <td>...</td>\n",
       "      <td>...</td>\n",
       "      <td>...</td>\n",
       "      <td>...</td>\n",
       "      <td>...</td>\n",
       "      <td>...</td>\n",
       "      <td>...</td>\n",
       "      <td>...</td>\n",
       "      <td>...</td>\n",
       "      <td>...</td>\n",
       "      <td>...</td>\n",
       "      <td>...</td>\n",
       "      <td>...</td>\n",
       "      <td>...</td>\n",
       "      <td>...</td>\n",
       "      <td>...</td>\n",
       "      <td>...</td>\n",
       "      <td>...</td>\n",
       "      <td>...</td>\n",
       "    </tr>\n",
       "    <tr>\n",
       "      <th>7556</th>\n",
       "      <td>10.211588</td>\n",
       "      <td>17.527111</td>\n",
       "      <td>52.835098</td>\n",
       "      <td>62.961803</td>\n",
       "      <td>6.064373</td>\n",
       "      <td>7.133409</td>\n",
       "      <td>13.820011</td>\n",
       "      <td>4.327481</td>\n",
       "      <td>22.805698</td>\n",
       "      <td>6.630964</td>\n",
       "      <td>...</td>\n",
       "      <td>11.845836</td>\n",
       "      <td>7.394582</td>\n",
       "      <td>10.325146</td>\n",
       "      <td>24.155204</td>\n",
       "      <td>14.050514</td>\n",
       "      <td>9.613953</td>\n",
       "      <td>10.457252</td>\n",
       "      <td>12.653615</td>\n",
       "      <td>9.687130</td>\n",
       "      <td>61.765712</td>\n",
       "    </tr>\n",
       "    <tr>\n",
       "      <th>7557</th>\n",
       "      <td>10.225923</td>\n",
       "      <td>17.662405</td>\n",
       "      <td>52.987180</td>\n",
       "      <td>62.829300</td>\n",
       "      <td>6.140680</td>\n",
       "      <td>7.113668</td>\n",
       "      <td>13.948673</td>\n",
       "      <td>4.252600</td>\n",
       "      <td>22.544615</td>\n",
       "      <td>6.647600</td>\n",
       "      <td>...</td>\n",
       "      <td>11.869755</td>\n",
       "      <td>7.281031</td>\n",
       "      <td>10.394207</td>\n",
       "      <td>24.285921</td>\n",
       "      <td>14.057427</td>\n",
       "      <td>9.714635</td>\n",
       "      <td>10.540550</td>\n",
       "      <td>12.531499</td>\n",
       "      <td>9.553649</td>\n",
       "      <td>60.782064</td>\n",
       "    </tr>\n",
       "    <tr>\n",
       "      <th>7558</th>\n",
       "      <td>10.115564</td>\n",
       "      <td>17.745798</td>\n",
       "      <td>52.770226</td>\n",
       "      <td>63.095924</td>\n",
       "      <td>6.248717</td>\n",
       "      <td>7.102605</td>\n",
       "      <td>13.858465</td>\n",
       "      <td>4.252565</td>\n",
       "      <td>22.384216</td>\n",
       "      <td>6.733721</td>\n",
       "      <td>...</td>\n",
       "      <td>11.810549</td>\n",
       "      <td>7.329185</td>\n",
       "      <td>10.566764</td>\n",
       "      <td>24.201543</td>\n",
       "      <td>14.019154</td>\n",
       "      <td>9.743772</td>\n",
       "      <td>10.693230</td>\n",
       "      <td>12.499549</td>\n",
       "      <td>9.470287</td>\n",
       "      <td>61.224537</td>\n",
       "    </tr>\n",
       "    <tr>\n",
       "      <th>7559</th>\n",
       "      <td>10.038687</td>\n",
       "      <td>17.734525</td>\n",
       "      <td>51.956522</td>\n",
       "      <td>63.108022</td>\n",
       "      <td>6.333706</td>\n",
       "      <td>7.014965</td>\n",
       "      <td>13.893076</td>\n",
       "      <td>4.193585</td>\n",
       "      <td>22.235714</td>\n",
       "      <td>6.692817</td>\n",
       "      <td>...</td>\n",
       "      <td>11.706222</td>\n",
       "      <td>7.353417</td>\n",
       "      <td>10.627224</td>\n",
       "      <td>24.450528</td>\n",
       "      <td>13.920854</td>\n",
       "      <td>9.794482</td>\n",
       "      <td>10.736928</td>\n",
       "      <td>12.526761</td>\n",
       "      <td>9.369317</td>\n",
       "      <td>61.675357</td>\n",
       "    </tr>\n",
       "    <tr>\n",
       "      <th>7560</th>\n",
       "      <td>10.010000</td>\n",
       "      <td>17.715604</td>\n",
       "      <td>51.844358</td>\n",
       "      <td>61.455173</td>\n",
       "      <td>6.291085</td>\n",
       "      <td>6.960629</td>\n",
       "      <td>13.918359</td>\n",
       "      <td>4.179647</td>\n",
       "      <td>22.106430</td>\n",
       "      <td>6.704625</td>\n",
       "      <td>...</td>\n",
       "      <td>11.756766</td>\n",
       "      <td>7.379661</td>\n",
       "      <td>10.865123</td>\n",
       "      <td>24.582266</td>\n",
       "      <td>13.942471</td>\n",
       "      <td>9.694202</td>\n",
       "      <td>10.712878</td>\n",
       "      <td>12.774443</td>\n",
       "      <td>9.221541</td>\n",
       "      <td>61.223499</td>\n",
       "    </tr>\n",
       "  </tbody>\n",
       "</table>\n",
       "<p>7561 rows × 500 columns</p>\n",
       "</div>"
      ],
      "text/plain": [
       "            0          1          2          3         4         5    \\\n",
       "0      1.000000   1.000000   1.000000   1.000000  1.000000  1.000000   \n",
       "1      0.999756   0.987783   0.982901   0.998398  0.996221  0.982515   \n",
       "2      1.005468   0.980128   0.984699   0.992774  0.992771  0.984358   \n",
       "3      1.019181   0.975716   0.988372   0.983983  0.988670  0.981845   \n",
       "4      1.015927   0.991196   0.978342   0.978293  0.995405  0.985472   \n",
       "...         ...        ...        ...        ...       ...       ...   \n",
       "7556  10.211588  17.527111  52.835098  62.961803  6.064373  7.133409   \n",
       "7557  10.225923  17.662405  52.987180  62.829300  6.140680  7.113668   \n",
       "7558  10.115564  17.745798  52.770226  63.095924  6.248717  7.102605   \n",
       "7559  10.038687  17.734525  51.956522  63.108022  6.333706  7.014965   \n",
       "7560  10.010000  17.715604  51.844358  61.455173  6.291085  6.960629   \n",
       "\n",
       "            6         7          8         9    ...        490       491  \\\n",
       "0      1.000000  1.000000   1.000000  1.000000  ...   1.000000  1.000000   \n",
       "1      1.012898  1.013867   0.997813  1.008037  ...   0.998647  0.990678   \n",
       "2      1.007954  1.014245   1.014817  1.005217  ...   0.995197  0.994035   \n",
       "3      1.020490  1.025791   1.007924  1.006626  ...   0.991284  1.003611   \n",
       "4      1.017876  1.040821   1.004132  0.995739  ...   0.981421  1.001508   \n",
       "...         ...       ...        ...       ...  ...        ...       ...   \n",
       "7556  13.820011  4.327481  22.805698  6.630964  ...  11.845836  7.394582   \n",
       "7557  13.948673  4.252600  22.544615  6.647600  ...  11.869755  7.281031   \n",
       "7558  13.858465  4.252565  22.384216  6.733721  ...  11.810549  7.329185   \n",
       "7559  13.893076  4.193585  22.235714  6.692817  ...  11.706222  7.353417   \n",
       "7560  13.918359  4.179647  22.106430  6.704625  ...  11.756766  7.379661   \n",
       "\n",
       "            492        493        494       495        496        497  \\\n",
       "0      1.000000   1.000000   1.000000  1.000000   1.000000   1.000000   \n",
       "1      1.002807   1.006334   0.993074  0.997057   0.991973   0.992673   \n",
       "2      1.013237   1.015576   1.006872  0.997730   1.003387   1.003384   \n",
       "3      1.004263   0.998605   1.014090  0.984626   0.995706   1.012401   \n",
       "4      1.024940   1.003860   1.015740  0.979818   1.008284   1.012708   \n",
       "...         ...        ...        ...       ...        ...        ...   \n",
       "7556  10.325146  24.155204  14.050514  9.613953  10.457252  12.653615   \n",
       "7557  10.394207  24.285921  14.057427  9.714635  10.540550  12.531499   \n",
       "7558  10.566764  24.201543  14.019154  9.743772  10.693230  12.499549   \n",
       "7559  10.627224  24.450528  13.920854  9.794482  10.736928  12.526761   \n",
       "7560  10.865123  24.582266  13.942471  9.694202  10.712878  12.774443   \n",
       "\n",
       "           498        499  \n",
       "0     1.000000   1.000000  \n",
       "1     1.020571   1.010735  \n",
       "2     1.012278   1.012162  \n",
       "3     1.000274   1.022583  \n",
       "4     1.010967   1.022075  \n",
       "...        ...        ...  \n",
       "7556  9.687130  61.765712  \n",
       "7557  9.553649  60.782064  \n",
       "7558  9.470287  61.224537  \n",
       "7559  9.369317  61.675357  \n",
       "7560  9.221541  61.223499  \n",
       "\n",
       "[7561 rows x 500 columns]"
      ]
     },
     "execution_count": 50,
     "metadata": {},
     "output_type": "execute_result"
    }
   ],
   "source": [
    "# Run the Monte Carlo simulation to forecast 30 years cumulative returns\n",
    "\n",
    "MC_60_40_weight.calc_cumulative_return()"
   ]
  },
  {
   "cell_type": "code",
   "execution_count": 51,
   "metadata": {},
   "outputs": [
    {
     "data": {
      "image/png": "[encoded data removed]",
      "text/plain": [
       "<Figure size 432x288 with 1 Axes>"
      ]
     },
     "metadata": {
      "needs_background": "light"
     },
     "output_type": "display_data"
    }
   ],
   "source": [
    "# Visualize the 30-year Monte Carlo simulation by creating an\n",
    "# overlay line plot\n",
    "\n",
    "MC_30yr_line_plot = MC_60_40_weight.plot_simulation()"
   ]
  },
  {
   "cell_type": "markdown",
   "metadata": {},
   "source": [
    "#### Step 3: Plot the probability distribution of the Monte Carlo simulation."
   ]
  },
  {
   "cell_type": "code",
   "execution_count": 52,
   "metadata": {},
   "outputs": [
    {
     "data": {
      "image/png": "[encoded data removed]",
      "text/plain": [
       "<Figure size 432x288 with 1 Axes>"
      ]
     },
     "metadata": {
      "needs_background": "light"
     },
     "output_type": "display_data"
    }
   ],
   "source": [
    "# Visualize the probability distribution of the 30-year Monte Carlo simulation \n",
    "# by plotting a histogram\n",
    "\n",
    "MC_30yr_distr_plot = MC_60_40_weight.plot_distribution()"
   ]
  },
  {
   "cell_type": "markdown",
   "metadata": {},
   "source": [
    "#### Step 4: Generate the summary statistics for the Monte Carlo simulation."
   ]
  },
  {
   "cell_type": "code",
   "execution_count": 54,
   "metadata": {},
   "outputs": [
    {
     "data": {
      "text/plain": [
       "count           500.000000\n",
       "mean             23.970630\n",
       "std              19.596521\n",
       "min               2.214360\n",
       "25%              11.009652\n",
       "50%              18.732884\n",
       "75%              29.262242\n",
       "max             199.401716\n",
       "95% CI Lower      4.254367\n",
       "95% CI Upper     71.648449\n",
       "Name: 7560, dtype: float64"
      ]
     },
     "execution_count": 54,
     "metadata": {},
     "output_type": "execute_result"
    }
   ],
   "source": [
    "# Generate summary statistics from the 30-year Monte Carlo simulation results\n",
    "# Save the results as a variable\n",
    "\n",
    "summ_stat_30yr_MC = MC_60_40_weight.summarize_cumulative_return()\n",
    "\n",
    "# Review the 30-year Monte Carlo summary statistics\n",
    "\n",
    "summ_stat_30yr_MC"
   ]
  },
  {
   "cell_type": "markdown",
   "metadata": {},
   "source": [
    "### Analyze the Retirement Portfolio Forecasts\n",
    "\n",
    "Using the current value of only the stock and bond portion of the member's portfolio and the summary statistics that you generated from the Monte Carlo simulation, answer the following question in your Jupyter notebook:\n",
    "\n",
    "-  What are the lower and upper bounds for the expected value of the portfolio with a 95% confidence interval?\n"
   ]
  },
  {
   "cell_type": "code",
   "execution_count": 56,
   "metadata": {},
   "outputs": [
    {
     "data": {
      "text/plain": [
       "70174.70000000001"
      ]
     },
     "execution_count": 56,
     "metadata": {},
     "output_type": "execute_result"
    }
   ],
   "source": [
    "# Print the current balance of the stock and bond portion of the members portfolio\n",
    "\n",
    "total_stocks_bonds"
   ]
  },
  {
   "cell_type": "code",
   "execution_count": 59,
   "metadata": {},
   "outputs": [
    {
     "name": "stdout",
     "output_type": "stream",
     "text": [
      "There is a 95% chance that an initial investment in AGG and SPY, in a 40/60 weighted portfolio, will end within in the range of $298548.94 and $5027908.44 over the next 30 years.\n"
     ]
    }
   ],
   "source": [
    "# Use the lower and upper `95%` confidence intervals to calculate the range of the possible outcomes for the current stock/bond portfolio\n",
    "\n",
    "ci_lower_thirty_cumulative_return = round(summ_stat_30yr_MC[8] * total_stocks_bonds, 2)\n",
    "ci_upper_thirty_cumulative_return = round(summ_stat_30yr_MC[9] * total_stocks_bonds, 2)\n",
    "\n",
    "# Print the result of your calculations\n",
    "\n",
    "print(f\"There is a 95% chance that an initial investment in AGG and SPY,\"\n",
    "      f\" in a 40/60 weighted portfolio, will end within in the range of\"\n",
    "      f\" ${ci_lower_thirty_cumulative_return} and ${ci_upper_thirty_cumulative_return} over the next 30 years.\")"
   ]
  },
  {
   "cell_type": "markdown",
   "metadata": {},
   "source": [
    "### Forecast Cumulative Returns in 10 Years\n",
    "\n",
    "The CTO of the credit union is impressed with your work on these planning tools but wonders if 30 years is a long time to wait until retirement. So, your next task is to adjust the retirement portfolio and run a new Monte Carlo simulation to find out if the changes will allow members to retire earlier.\n",
    "\n",
    "For this new Monte Carlo simulation, do the following: \n",
    "\n",
    "- Forecast the cumulative returns for 10 years from now. Because of the shortened investment horizon (30 years to 10 years), the portfolio needs to invest more heavily in the riskier asset&mdash;that is, stock&mdash;to help accumulate wealth for retirement. \n",
    "\n",
    "- Adjust the weights of the retirement portfolio so that the composition for the Monte Carlo simulation consists of 20% bonds and 80% stocks. \n",
    "\n",
    "- Run the simulation over 500 samples, and use the same data that the API call to Alpaca generated.\n",
    "\n",
    "- Based on the new Monte Carlo simulation, answer the following questions in your Jupyter notebook:\n",
    "\n",
    "    - Using the current value of only the stock and bond portion of the member's portfolio and the summary statistics that you generated from the new Monte Carlo simulation, what are the lower and upper bounds for the expected value of the portfolio (with the new weights) with a 95% confidence interval?\n",
    "\n",
    "    - Will weighting the portfolio more heavily toward stocks allow the credit union members to retire after only 10 years?\n"
   ]
  },
  {
   "cell_type": "code",
   "execution_count": 60,
   "metadata": {},
   "outputs": [
    {
     "data": {
      "text/html": [
       "<div>\n",
       "<style scoped>\n",
       "    .dataframe tbody tr th:only-of-type {\n",
       "        vertical-align: middle;\n",
       "    }\n",
       "\n",
       "    .dataframe tbody tr th {\n",
       "        vertical-align: top;\n",
       "    }\n",
       "\n",
       "    .dataframe thead tr th {\n",
       "        text-align: left;\n",
       "    }\n",
       "\n",
       "    .dataframe thead tr:last-of-type th {\n",
       "        text-align: right;\n",
       "    }\n",
       "</style>\n",
       "<table border=\"1\" class=\"dataframe\">\n",
       "  <thead>\n",
       "    <tr>\n",
       "      <th></th>\n",
       "      <th colspan=\"6\" halign=\"left\">AGG</th>\n",
       "      <th colspan=\"6\" halign=\"left\">SPY</th>\n",
       "    </tr>\n",
       "    <tr>\n",
       "      <th></th>\n",
       "      <th>open</th>\n",
       "      <th>high</th>\n",
       "      <th>low</th>\n",
       "      <th>close</th>\n",
       "      <th>volume</th>\n",
       "      <th>daily_return</th>\n",
       "      <th>open</th>\n",
       "      <th>high</th>\n",
       "      <th>low</th>\n",
       "      <th>close</th>\n",
       "      <th>volume</th>\n",
       "      <th>daily_return</th>\n",
       "    </tr>\n",
       "    <tr>\n",
       "      <th>time</th>\n",
       "      <th></th>\n",
       "      <th></th>\n",
       "      <th></th>\n",
       "      <th></th>\n",
       "      <th></th>\n",
       "      <th></th>\n",
       "      <th></th>\n",
       "      <th></th>\n",
       "      <th></th>\n",
       "      <th></th>\n",
       "      <th></th>\n",
       "      <th></th>\n",
       "    </tr>\n",
       "  </thead>\n",
       "  <tbody>\n",
       "    <tr>\n",
       "      <th>2018-10-01 00:00:00-04:00</th>\n",
       "      <td>105.3500</td>\n",
       "      <td>105.3500</td>\n",
       "      <td>105.2000</td>\n",
       "      <td>105.220</td>\n",
       "      <td>3048167.0</td>\n",
       "      <td>NaN</td>\n",
       "      <td>292.13</td>\n",
       "      <td>292.930</td>\n",
       "      <td>290.98</td>\n",
       "      <td>291.67</td>\n",
       "      <td>45685920</td>\n",
       "      <td>NaN</td>\n",
       "    </tr>\n",
       "    <tr>\n",
       "      <th>2018-10-02 00:00:00-04:00</th>\n",
       "      <td>105.3200</td>\n",
       "      <td>105.4600</td>\n",
       "      <td>105.2500</td>\n",
       "      <td>105.355</td>\n",
       "      <td>4723031.0</td>\n",
       "      <td>0.001283</td>\n",
       "      <td>291.56</td>\n",
       "      <td>292.355</td>\n",
       "      <td>291.14</td>\n",
       "      <td>291.57</td>\n",
       "      <td>36043833</td>\n",
       "      <td>-0.000343</td>\n",
       "    </tr>\n",
       "    <tr>\n",
       "      <th>2018-10-03 00:00:00-04:00</th>\n",
       "      <td>105.2200</td>\n",
       "      <td>105.2400</td>\n",
       "      <td>104.7500</td>\n",
       "      <td>104.860</td>\n",
       "      <td>2493313.0</td>\n",
       "      <td>-0.004698</td>\n",
       "      <td>292.72</td>\n",
       "      <td>293.210</td>\n",
       "      <td>291.32</td>\n",
       "      <td>291.78</td>\n",
       "      <td>44874126</td>\n",
       "      <td>0.000720</td>\n",
       "    </tr>\n",
       "    <tr>\n",
       "      <th>2018-10-04 00:00:00-04:00</th>\n",
       "      <td>104.6652</td>\n",
       "      <td>104.7171</td>\n",
       "      <td>104.4701</td>\n",
       "      <td>104.560</td>\n",
       "      <td>4713051.0</td>\n",
       "      <td>-0.002861</td>\n",
       "      <td>291.18</td>\n",
       "      <td>291.240</td>\n",
       "      <td>287.66</td>\n",
       "      <td>289.47</td>\n",
       "      <td>85200164</td>\n",
       "      <td>-0.007917</td>\n",
       "    </tr>\n",
       "    <tr>\n",
       "      <th>2018-10-05 00:00:00-04:00</th>\n",
       "      <td>104.4600</td>\n",
       "      <td>104.4800</td>\n",
       "      <td>104.1900</td>\n",
       "      <td>104.330</td>\n",
       "      <td>3307883.0</td>\n",
       "      <td>-0.002200</td>\n",
       "      <td>289.69</td>\n",
       "      <td>290.270</td>\n",
       "      <td>286.22</td>\n",
       "      <td>287.89</td>\n",
       "      <td>77118851</td>\n",
       "      <td>-0.005458</td>\n",
       "    </tr>\n",
       "  </tbody>\n",
       "</table>\n",
       "</div>"
      ],
      "text/plain": [
       "                                AGG                                          \\\n",
       "                               open      high       low    close     volume   \n",
       "time                                                                          \n",
       "2018-10-01 00:00:00-04:00  105.3500  105.3500  105.2000  105.220  3048167.0   \n",
       "2018-10-02 00:00:00-04:00  105.3200  105.4600  105.2500  105.355  4723031.0   \n",
       "2018-10-03 00:00:00-04:00  105.2200  105.2400  104.7500  104.860  2493313.0   \n",
       "2018-10-04 00:00:00-04:00  104.6652  104.7171  104.4701  104.560  4713051.0   \n",
       "2018-10-05 00:00:00-04:00  104.4600  104.4800  104.1900  104.330  3307883.0   \n",
       "\n",
       "                                           SPY                           \\\n",
       "                          daily_return    open     high     low   close   \n",
       "time                                                                      \n",
       "2018-10-01 00:00:00-04:00          NaN  292.13  292.930  290.98  291.67   \n",
       "2018-10-02 00:00:00-04:00     0.001283  291.56  292.355  291.14  291.57   \n",
       "2018-10-03 00:00:00-04:00    -0.004698  292.72  293.210  291.32  291.78   \n",
       "2018-10-04 00:00:00-04:00    -0.002861  291.18  291.240  287.66  289.47   \n",
       "2018-10-05 00:00:00-04:00    -0.002200  289.69  290.270  286.22  287.89   \n",
       "\n",
       "                                                  \n",
       "                             volume daily_return  \n",
       "time                                              \n",
       "2018-10-01 00:00:00-04:00  45685920          NaN  \n",
       "2018-10-02 00:00:00-04:00  36043833    -0.000343  \n",
       "2018-10-03 00:00:00-04:00  44874126     0.000720  \n",
       "2018-10-04 00:00:00-04:00  85200164    -0.007917  \n",
       "2018-10-05 00:00:00-04:00  77118851    -0.005458  "
      ]
     },
     "execution_count": 60,
     "metadata": {},
     "output_type": "execute_result"
    }
   ],
   "source": [
    "# Configure a Monte Carlo simulation to forecast 10 years cumulative returns\n",
    "# The weights should be split 20% to AGG and 80% to SPY.\n",
    "# Run 500 samples.\n",
    "\n",
    "MC_20_80_weight = MCSimulation(\n",
    "    portfolio_data = market_pricing_3yr_df,\n",
    "    weights = [.2, .8],\n",
    "    num_simulation = 500,\n",
    "    num_trading_days = 252*10\n",
    ")\n",
    "\n",
    "# Review the simulation input data\n",
    "\n",
    "MC_20_80_weight.portfolio_data.head()"
   ]
  },
  {
   "cell_type": "code",
   "execution_count": 61,
   "metadata": {
    "scrolled": true,
    "tags": []
   },
   "outputs": [
    {
     "name": "stdout",
     "output_type": "stream",
     "text": [
      "Running Monte Carlo simulation number 0.\n",
      "Running Monte Carlo simulation number 10.\n",
      "Running Monte Carlo simulation number 20.\n",
      "Running Monte Carlo simulation number 30.\n",
      "Running Monte Carlo simulation number 40.\n",
      "Running Monte Carlo simulation number 50.\n",
      "Running Monte Carlo simulation number 60.\n",
      "Running Monte Carlo simulation number 70.\n",
      "Running Monte Carlo simulation number 80.\n",
      "Running Monte Carlo simulation number 90.\n",
      "Running Monte Carlo simulation number 100.\n"
     ]
    },
    {
     "name": "stderr",
     "output_type": "stream",
     "text": [
      "C:\\Users\\Erin Kenny\\Desktop\\FinTech_Workspace\\Module_5_Challenge\\Module_5_Ch_Financial_Simulations_and_APIs\\MCForecastTools.py:117: PerformanceWarning: DataFrame is highly fragmented.  This is usually the result of calling `frame.insert` many times, which has poor performance.  Consider joining all columns at once using pd.concat(axis=1) instead.  To get a de-fragmented frame, use `newframe = frame.copy()`\n",
      "  portfolio_cumulative_returns[n] = (1 + sim_df.fillna(0)).cumprod()\n"
     ]
    },
    {
     "name": "stdout",
     "output_type": "stream",
     "text": [
      "Running Monte Carlo simulation number 110.\n",
      "Running Monte Carlo simulation number 120.\n",
      "Running Monte Carlo simulation number 130.\n",
      "Running Monte Carlo simulation number 140.\n",
      "Running Monte Carlo simulation number 150.\n",
      "Running Monte Carlo simulation number 160.\n",
      "Running Monte Carlo simulation number 170.\n",
      "Running Monte Carlo simulation number 180.\n",
      "Running Monte Carlo simulation number 190.\n",
      "Running Monte Carlo simulation number 200.\n",
      "Running Monte Carlo simulation number 210.\n",
      "Running Monte Carlo simulation number 220.\n",
      "Running Monte Carlo simulation number 230.\n",
      "Running Monte Carlo simulation number 240.\n",
      "Running Monte Carlo simulation number 250.\n",
      "Running Monte Carlo simulation number 260.\n",
      "Running Monte Carlo simulation number 270.\n",
      "Running Monte Carlo simulation number 280.\n",
      "Running Monte Carlo simulation number 290.\n",
      "Running Monte Carlo simulation number 300.\n",
      "Running Monte Carlo simulation number 310.\n",
      "Running Monte Carlo simulation number 320.\n",
      "Running Monte Carlo simulation number 330.\n",
      "Running Monte Carlo simulation number 340.\n",
      "Running Monte Carlo simulation number 350.\n",
      "Running Monte Carlo simulation number 360.\n",
      "Running Monte Carlo simulation number 370.\n",
      "Running Monte Carlo simulation number 380.\n",
      "Running Monte Carlo simulation number 390.\n",
      "Running Monte Carlo simulation number 400.\n",
      "Running Monte Carlo simulation number 410.\n",
      "Running Monte Carlo simulation number 420.\n",
      "Running Monte Carlo simulation number 430.\n",
      "Running Monte Carlo simulation number 440.\n",
      "Running Monte Carlo simulation number 450.\n",
      "Running Monte Carlo simulation number 460.\n",
      "Running Monte Carlo simulation number 470.\n",
      "Running Monte Carlo simulation number 480.\n",
      "Running Monte Carlo simulation number 490.\n"
     ]
    },
    {
     "data": {
      "text/html": [
       "<div>\n",
       "<style scoped>\n",
       "    .dataframe tbody tr th:only-of-type {\n",
       "        vertical-align: middle;\n",
       "    }\n",
       "\n",
       "    .dataframe tbody tr th {\n",
       "        vertical-align: top;\n",
       "    }\n",
       "\n",
       "    .dataframe thead th {\n",
       "        text-align: right;\n",
       "    }\n",
       "</style>\n",
       "<table border=\"1\" class=\"dataframe\">\n",
       "  <thead>\n",
       "    <tr style=\"text-align: right;\">\n",
       "      <th></th>\n",
       "      <th>0</th>\n",
       "      <th>1</th>\n",
       "      <th>2</th>\n",
       "      <th>3</th>\n",
       "      <th>4</th>\n",
       "      <th>5</th>\n",
       "      <th>6</th>\n",
       "      <th>7</th>\n",
       "      <th>8</th>\n",
       "      <th>9</th>\n",
       "      <th>...</th>\n",
       "      <th>490</th>\n",
       "      <th>491</th>\n",
       "      <th>492</th>\n",
       "      <th>493</th>\n",
       "      <th>494</th>\n",
       "      <th>495</th>\n",
       "      <th>496</th>\n",
       "      <th>497</th>\n",
       "      <th>498</th>\n",
       "      <th>499</th>\n",
       "    </tr>\n",
       "  </thead>\n",
       "  <tbody>\n",
       "    <tr>\n",
       "      <th>0</th>\n",
       "      <td>1.000000</td>\n",
       "      <td>1.000000</td>\n",
       "      <td>1.000000</td>\n",
       "      <td>1.000000</td>\n",
       "      <td>1.000000</td>\n",
       "      <td>1.000000</td>\n",
       "      <td>1.000000</td>\n",
       "      <td>1.000000</td>\n",
       "      <td>1.000000</td>\n",
       "      <td>1.000000</td>\n",
       "      <td>...</td>\n",
       "      <td>1.000000</td>\n",
       "      <td>1.000000</td>\n",
       "      <td>1.000000</td>\n",
       "      <td>1.000000</td>\n",
       "      <td>1.000000</td>\n",
       "      <td>1.000000</td>\n",
       "      <td>1.000000</td>\n",
       "      <td>1.000000</td>\n",
       "      <td>1.000000</td>\n",
       "      <td>1.000000</td>\n",
       "    </tr>\n",
       "    <tr>\n",
       "      <th>1</th>\n",
       "      <td>1.012927</td>\n",
       "      <td>1.012948</td>\n",
       "      <td>0.995080</td>\n",
       "      <td>1.000831</td>\n",
       "      <td>1.001386</td>\n",
       "      <td>0.999334</td>\n",
       "      <td>1.004431</td>\n",
       "      <td>0.997612</td>\n",
       "      <td>0.981993</td>\n",
       "      <td>0.997864</td>\n",
       "      <td>...</td>\n",
       "      <td>1.009543</td>\n",
       "      <td>0.981005</td>\n",
       "      <td>1.006156</td>\n",
       "      <td>1.009769</td>\n",
       "      <td>1.001751</td>\n",
       "      <td>1.013092</td>\n",
       "      <td>0.991699</td>\n",
       "      <td>0.995236</td>\n",
       "      <td>1.000817</td>\n",
       "      <td>1.012103</td>\n",
       "    </tr>\n",
       "    <tr>\n",
       "      <th>2</th>\n",
       "      <td>1.008343</td>\n",
       "      <td>0.996633</td>\n",
       "      <td>0.995282</td>\n",
       "      <td>0.964565</td>\n",
       "      <td>1.013028</td>\n",
       "      <td>1.015109</td>\n",
       "      <td>0.996988</td>\n",
       "      <td>1.012884</td>\n",
       "      <td>0.979150</td>\n",
       "      <td>1.006413</td>\n",
       "      <td>...</td>\n",
       "      <td>1.009284</td>\n",
       "      <td>0.982448</td>\n",
       "      <td>0.985791</td>\n",
       "      <td>1.018703</td>\n",
       "      <td>0.990131</td>\n",
       "      <td>1.007164</td>\n",
       "      <td>0.991208</td>\n",
       "      <td>1.002233</td>\n",
       "      <td>1.003816</td>\n",
       "      <td>1.019261</td>\n",
       "    </tr>\n",
       "    <tr>\n",
       "      <th>3</th>\n",
       "      <td>0.995057</td>\n",
       "      <td>1.007736</td>\n",
       "      <td>0.979388</td>\n",
       "      <td>0.960801</td>\n",
       "      <td>1.001349</td>\n",
       "      <td>1.030687</td>\n",
       "      <td>0.996695</td>\n",
       "      <td>1.018766</td>\n",
       "      <td>0.975404</td>\n",
       "      <td>0.995339</td>\n",
       "      <td>...</td>\n",
       "      <td>0.993884</td>\n",
       "      <td>0.993353</td>\n",
       "      <td>0.993426</td>\n",
       "      <td>1.035019</td>\n",
       "      <td>0.997224</td>\n",
       "      <td>1.014772</td>\n",
       "      <td>0.983655</td>\n",
       "      <td>1.014367</td>\n",
       "      <td>1.007130</td>\n",
       "      <td>1.004153</td>\n",
       "    </tr>\n",
       "    <tr>\n",
       "      <th>4</th>\n",
       "      <td>1.011677</td>\n",
       "      <td>1.026909</td>\n",
       "      <td>0.986213</td>\n",
       "      <td>0.980992</td>\n",
       "      <td>1.008463</td>\n",
       "      <td>1.025223</td>\n",
       "      <td>0.992939</td>\n",
       "      <td>1.010235</td>\n",
       "      <td>0.976109</td>\n",
       "      <td>1.014348</td>\n",
       "      <td>...</td>\n",
       "      <td>0.961131</td>\n",
       "      <td>0.997111</td>\n",
       "      <td>0.984989</td>\n",
       "      <td>1.027554</td>\n",
       "      <td>0.985202</td>\n",
       "      <td>1.018556</td>\n",
       "      <td>0.974931</td>\n",
       "      <td>1.024765</td>\n",
       "      <td>1.006257</td>\n",
       "      <td>0.970305</td>\n",
       "    </tr>\n",
       "    <tr>\n",
       "      <th>...</th>\n",
       "      <td>...</td>\n",
       "      <td>...</td>\n",
       "      <td>...</td>\n",
       "      <td>...</td>\n",
       "      <td>...</td>\n",
       "      <td>...</td>\n",
       "      <td>...</td>\n",
       "      <td>...</td>\n",
       "      <td>...</td>\n",
       "      <td>...</td>\n",
       "      <td>...</td>\n",
       "      <td>...</td>\n",
       "      <td>...</td>\n",
       "      <td>...</td>\n",
       "      <td>...</td>\n",
       "      <td>...</td>\n",
       "      <td>...</td>\n",
       "      <td>...</td>\n",
       "      <td>...</td>\n",
       "      <td>...</td>\n",
       "      <td>...</td>\n",
       "    </tr>\n",
       "    <tr>\n",
       "      <th>2516</th>\n",
       "      <td>1.284736</td>\n",
       "      <td>3.043373</td>\n",
       "      <td>2.123146</td>\n",
       "      <td>6.079651</td>\n",
       "      <td>2.259716</td>\n",
       "      <td>5.205188</td>\n",
       "      <td>4.733732</td>\n",
       "      <td>1.277068</td>\n",
       "      <td>6.915069</td>\n",
       "      <td>2.227628</td>\n",
       "      <td>...</td>\n",
       "      <td>2.689124</td>\n",
       "      <td>5.677425</td>\n",
       "      <td>9.037135</td>\n",
       "      <td>3.707488</td>\n",
       "      <td>3.557314</td>\n",
       "      <td>1.323704</td>\n",
       "      <td>4.491202</td>\n",
       "      <td>5.885642</td>\n",
       "      <td>5.527653</td>\n",
       "      <td>10.789406</td>\n",
       "    </tr>\n",
       "    <tr>\n",
       "      <th>2517</th>\n",
       "      <td>1.295475</td>\n",
       "      <td>3.051015</td>\n",
       "      <td>2.112849</td>\n",
       "      <td>6.061672</td>\n",
       "      <td>2.244435</td>\n",
       "      <td>5.245788</td>\n",
       "      <td>4.681540</td>\n",
       "      <td>1.272531</td>\n",
       "      <td>6.863185</td>\n",
       "      <td>2.238744</td>\n",
       "      <td>...</td>\n",
       "      <td>2.664692</td>\n",
       "      <td>5.709521</td>\n",
       "      <td>9.061262</td>\n",
       "      <td>3.694322</td>\n",
       "      <td>3.586639</td>\n",
       "      <td>1.323626</td>\n",
       "      <td>4.543036</td>\n",
       "      <td>5.973028</td>\n",
       "      <td>5.471950</td>\n",
       "      <td>10.727820</td>\n",
       "    </tr>\n",
       "    <tr>\n",
       "      <th>2518</th>\n",
       "      <td>1.293269</td>\n",
       "      <td>3.033241</td>\n",
       "      <td>2.126920</td>\n",
       "      <td>6.050262</td>\n",
       "      <td>2.274313</td>\n",
       "      <td>5.154182</td>\n",
       "      <td>4.669725</td>\n",
       "      <td>1.313122</td>\n",
       "      <td>6.756131</td>\n",
       "      <td>2.216300</td>\n",
       "      <td>...</td>\n",
       "      <td>2.674489</td>\n",
       "      <td>5.715071</td>\n",
       "      <td>9.051480</td>\n",
       "      <td>3.695920</td>\n",
       "      <td>3.643542</td>\n",
       "      <td>1.347618</td>\n",
       "      <td>4.530209</td>\n",
       "      <td>5.994180</td>\n",
       "      <td>5.505478</td>\n",
       "      <td>10.612646</td>\n",
       "    </tr>\n",
       "    <tr>\n",
       "      <th>2519</th>\n",
       "      <td>1.291279</td>\n",
       "      <td>3.041952</td>\n",
       "      <td>2.125321</td>\n",
       "      <td>6.108019</td>\n",
       "      <td>2.319350</td>\n",
       "      <td>5.120440</td>\n",
       "      <td>4.658594</td>\n",
       "      <td>1.309404</td>\n",
       "      <td>6.735583</td>\n",
       "      <td>2.229192</td>\n",
       "      <td>...</td>\n",
       "      <td>2.693077</td>\n",
       "      <td>5.862222</td>\n",
       "      <td>9.010534</td>\n",
       "      <td>3.648158</td>\n",
       "      <td>3.674500</td>\n",
       "      <td>1.360188</td>\n",
       "      <td>4.527074</td>\n",
       "      <td>5.931180</td>\n",
       "      <td>5.508644</td>\n",
       "      <td>10.722062</td>\n",
       "    </tr>\n",
       "    <tr>\n",
       "      <th>2520</th>\n",
       "      <td>1.315558</td>\n",
       "      <td>3.054274</td>\n",
       "      <td>2.138052</td>\n",
       "      <td>6.129568</td>\n",
       "      <td>2.293199</td>\n",
       "      <td>4.970126</td>\n",
       "      <td>4.670412</td>\n",
       "      <td>1.299665</td>\n",
       "      <td>6.675187</td>\n",
       "      <td>2.272921</td>\n",
       "      <td>...</td>\n",
       "      <td>2.657143</td>\n",
       "      <td>5.904941</td>\n",
       "      <td>8.951246</td>\n",
       "      <td>3.602546</td>\n",
       "      <td>3.597211</td>\n",
       "      <td>1.374878</td>\n",
       "      <td>4.575779</td>\n",
       "      <td>5.848528</td>\n",
       "      <td>5.576938</td>\n",
       "      <td>10.429519</td>\n",
       "    </tr>\n",
       "  </tbody>\n",
       "</table>\n",
       "<p>2521 rows × 500 columns</p>\n",
       "</div>"
      ],
      "text/plain": [
       "           0         1         2         3         4         5         6    \\\n",
       "0     1.000000  1.000000  1.000000  1.000000  1.000000  1.000000  1.000000   \n",
       "1     1.012927  1.012948  0.995080  1.000831  1.001386  0.999334  1.004431   \n",
       "2     1.008343  0.996633  0.995282  0.964565  1.013028  1.015109  0.996988   \n",
       "3     0.995057  1.007736  0.979388  0.960801  1.001349  1.030687  0.996695   \n",
       "4     1.011677  1.026909  0.986213  0.980992  1.008463  1.025223  0.992939   \n",
       "...        ...       ...       ...       ...       ...       ...       ...   \n",
       "2516  1.284736  3.043373  2.123146  6.079651  2.259716  5.205188  4.733732   \n",
       "2517  1.295475  3.051015  2.112849  6.061672  2.244435  5.245788  4.681540   \n",
       "2518  1.293269  3.033241  2.126920  6.050262  2.274313  5.154182  4.669725   \n",
       "2519  1.291279  3.041952  2.125321  6.108019  2.319350  5.120440  4.658594   \n",
       "2520  1.315558  3.054274  2.138052  6.129568  2.293199  4.970126  4.670412   \n",
       "\n",
       "           7         8         9    ...       490       491       492  \\\n",
       "0     1.000000  1.000000  1.000000  ...  1.000000  1.000000  1.000000   \n",
       "1     0.997612  0.981993  0.997864  ...  1.009543  0.981005  1.006156   \n",
       "2     1.012884  0.979150  1.006413  ...  1.009284  0.982448  0.985791   \n",
       "3     1.018766  0.975404  0.995339  ...  0.993884  0.993353  0.993426   \n",
       "4     1.010235  0.976109  1.014348  ...  0.961131  0.997111  0.984989   \n",
       "...        ...       ...       ...  ...       ...       ...       ...   \n",
       "2516  1.277068  6.915069  2.227628  ...  2.689124  5.677425  9.037135   \n",
       "2517  1.272531  6.863185  2.238744  ...  2.664692  5.709521  9.061262   \n",
       "2518  1.313122  6.756131  2.216300  ...  2.674489  5.715071  9.051480   \n",
       "2519  1.309404  6.735583  2.229192  ...  2.693077  5.862222  9.010534   \n",
       "2520  1.299665  6.675187  2.272921  ...  2.657143  5.904941  8.951246   \n",
       "\n",
       "           493       494       495       496       497       498        499  \n",
       "0     1.000000  1.000000  1.000000  1.000000  1.000000  1.000000   1.000000  \n",
       "1     1.009769  1.001751  1.013092  0.991699  0.995236  1.000817   1.012103  \n",
       "2     1.018703  0.990131  1.007164  0.991208  1.002233  1.003816   1.019261  \n",
       "3     1.035019  0.997224  1.014772  0.983655  1.014367  1.007130   1.004153  \n",
       "4     1.027554  0.985202  1.018556  0.974931  1.024765  1.006257   0.970305  \n",
       "...        ...       ...       ...       ...       ...       ...        ...  \n",
       "2516  3.707488  3.557314  1.323704  4.491202  5.885642  5.527653  10.789406  \n",
       "2517  3.694322  3.586639  1.323626  4.543036  5.973028  5.471950  10.727820  \n",
       "2518  3.695920  3.643542  1.347618  4.530209  5.994180  5.505478  10.612646  \n",
       "2519  3.648158  3.674500  1.360188  4.527074  5.931180  5.508644  10.722062  \n",
       "2520  3.602546  3.597211  1.374878  4.575779  5.848528  5.576938  10.429519  \n",
       "\n",
       "[2521 rows x 500 columns]"
      ]
     },
     "execution_count": 61,
     "metadata": {},
     "output_type": "execute_result"
    }
   ],
   "source": [
    "# Run the Monte Carlo simulation to forecast 10 years cumulative returns\n",
    "\n",
    "MC_20_80_weight.calc_cumulative_return()"
   ]
  },
  {
   "cell_type": "code",
   "execution_count": 62,
   "metadata": {},
   "outputs": [
    {
     "data": {
      "image/png": "[encoded data removed]",
      "text/plain": [
       "<Figure size 432x288 with 1 Axes>"
      ]
     },
     "metadata": {
      "needs_background": "light"
     },
     "output_type": "display_data"
    }
   ],
   "source": [
    "# Visualize the 10-year Monte Carlo simulation by creating an\n",
    "# overlay line plot\n",
    "\n",
    "MC_10yr_line_plot = MC_20_80_weight.plot_simulation()"
   ]
  },
  {
   "cell_type": "code",
   "execution_count": 63,
   "metadata": {},
   "outputs": [
    {
     "data": {
      "image/png": "[encoded data removed]",
      "text/plain": [
       "<Figure size 432x288 with 1 Axes>"
      ]
     },
     "metadata": {
      "needs_background": "light"
     },
     "output_type": "display_data"
    }
   ],
   "source": [
    "# Visualize the probability distribution of the 10-year Monte Carlo simulation \n",
    "# by plotting a histogram\n",
    "\n",
    "MC_10yr_line_plot = MC_20_80_weight.plot_distribution()"
   ]
  },
  {
   "cell_type": "code",
   "execution_count": 64,
   "metadata": {},
   "outputs": [
    {
     "data": {
      "text/plain": [
       "count           500.000000\n",
       "mean              3.589748\n",
       "std               2.234147\n",
       "min               0.634565\n",
       "25%               2.071514\n",
       "50%               2.966373\n",
       "75%               4.333066\n",
       "max              14.839641\n",
       "95% CI Lower      0.958815\n",
       "95% CI Upper      9.715477\n",
       "Name: 2520, dtype: float64"
      ]
     },
     "execution_count": 64,
     "metadata": {},
     "output_type": "execute_result"
    }
   ],
   "source": [
    "# Generate summary statistics from the 10-year Monte Carlo simulation results\n",
    "# Save the results as a variable\n",
    "\n",
    "summ_stat_10yr_MC = MC_20_80_weight.summarize_cumulative_return()\n",
    "\n",
    "# Review the 10-year Monte Carlo summary statistics\n",
    "\n",
    "summ_stat_10yr_MC"
   ]
  },
  {
   "cell_type": "markdown",
   "metadata": {},
   "source": [
    "### Answer the following questions:"
   ]
  },
  {
   "cell_type": "markdown",
   "metadata": {},
   "source": [
    "#### Question: Using the current value of only the stock and bond portion of the member's portfolio and the summary statistics that you generated from the new Monte Carlo simulation, what are the lower and upper bounds for the expected value of the portfolio (with the new weights) with a 95% confidence interval?"
   ]
  },
  {
   "cell_type": "code",
   "execution_count": 65,
   "metadata": {},
   "outputs": [
    {
     "data": {
      "text/plain": [
       "70174.70000000001"
      ]
     },
     "execution_count": 65,
     "metadata": {},
     "output_type": "execute_result"
    }
   ],
   "source": [
    "# Print the current balance of the stock and bond portion of the members portfolio\n",
    "\n",
    "total_stocks_bonds"
   ]
  },
  {
   "cell_type": "code",
   "execution_count": 66,
   "metadata": {},
   "outputs": [
    {
     "name": "stdout",
     "output_type": "stream",
     "text": [
      "There is a 95% chance that an initial investment in AGG and SPY, in a 20/80 weighted portfolio, will end within in the range of $67284.57 and $681780.68 over the next 10 years.\n"
     ]
    }
   ],
   "source": [
    "# Use the lower and upper `95%` confidence intervals to calculate the range of the possible outcomes for the current stock/bond portfolio\n",
    "\n",
    "ci_lower_ten_cumulative_return = round(summ_stat_10yr_MC[8] * total_stocks_bonds, 2)\n",
    "ci_upper_ten_cumulative_return = round(summ_stat_10yr_MC[9] * total_stocks_bonds, 2)\n",
    "\n",
    "# Print the result of your calculations\n",
    "\n",
    "print(f\"There is a 95% chance that an initial investment in AGG and SPY,\"\n",
    "      f\" in a 20/80 weighted portfolio, will end within in the range of\"\n",
    "      f\" ${ci_lower_ten_cumulative_return} and ${ci_upper_ten_cumulative_return} over the next 10 years.\")"
   ]
  },
  {
   "cell_type": "markdown",
   "metadata": {},
   "source": [
    "#### Question: Will weighting the portfolio more heavily to stocks allow the credit union members to retire after only 10 years?"
   ]
  },
  {
   "cell_type": "raw",
   "metadata": {},
   "source": [
    "**Answer** Yes, the expected returns are significantly higher, despite the shorter timeframe."
   ]
  },
  {
   "cell_type": "code",
   "execution_count": null,
   "metadata": {},
   "outputs": [],
   "source": []
  }
 ],
 "metadata": {
  "kernelspec": {
   "display_name": "Python (dev)",
   "language": "python",
   "name": "dev"
  },
  "language_info": {
   "codemirror_mode": {
    "name": "ipython",
    "version": 3
   },
   "file_extension": ".py",
   "mimetype": "text/x-python",
   "name": "python",
   "nbconvert_exporter": "python",
   "pygments_lexer": "ipython3",
   "version": "3.9.4"
  }
 },
 "nbformat": 4,
 "nbformat_minor": 4
}
